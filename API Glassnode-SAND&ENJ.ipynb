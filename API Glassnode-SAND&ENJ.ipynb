{
 "cells": [
  {
   "cell_type": "markdown",
   "id": "b38645fa",
   "metadata": {},
   "source": [
    "## Glassnode API | Python"
   ]
  },
  {
   "cell_type": "code",
   "execution_count": 1,
   "id": "32815a10",
   "metadata": {},
   "outputs": [
    {
     "name": "stdout",
     "output_type": "stream",
     "text": [
      "Index(['path', 'tier', 'assets', 'currencies', 'resolutions', 'formats'], dtype='object')\n"
     ]
    }
   ],
   "source": [
    "import json\n",
    "import requests\n",
    "import pandas as pd\n",
    "import plotly.graph_objects as go\n",
    "from plotly.offline import plot\n",
    "\n",
    "\n",
    "# insert your API key here\n",
    "API_KEY = '2It9FiAZB1mHp7VcjmmI9XzjPp4'\n",
    "\n",
    "\"\"\"\n",
    "make API request to get all endpoints\n",
    "\"\"\"\n",
    "res = requests.get(\n",
    "    'https://api.glassnode.com/v2/metrics/endpoints',\n",
    "    params={'api_key': API_KEY}\n",
    ")\n",
    "\n",
    "# convert to pandas dataframe\n",
    "endpointData = pd.read_json(res.text)\n",
    "\n",
    "# review endpoint data\n",
    "print(endpointData.columns)"
   ]
  },
  {
   "cell_type": "code",
   "execution_count": 2,
   "id": "083e058a",
   "metadata": {},
   "outputs": [
    {
     "name": "stdout",
     "output_type": "stream",
     "text": [
      "0       /v1/metrics/addresses/sending_to_exchanges_count\n",
      "1      /v1/metrics/addresses/receiving_from_exchanges...\n",
      "2                            /v1/metrics/addresses/count\n",
      "3                    /v1/metrics/addresses/sending_count\n",
      "4                  /v1/metrics/addresses/receiving_count\n",
      "                             ...                        \n",
      "497           /v1/metrics/institutions/qbtc_holdings_sum\n",
      "498              /v1/metrics/institutions/qbtc_flows_sum\n",
      "499        /v1/metrics/institutions/qbtc_premium_percent\n",
      "500                /v1/metrics/institutions/qbtc_aum_sum\n",
      "501       /v1/metrics/institutions/qbtc_market_price_usd\n",
      "Name: path, Length: 502, dtype: object\n"
     ]
    }
   ],
   "source": [
    "# view all endpoint URLs\n",
    "print(endpointData.path)"
   ]
  },
  {
   "cell_type": "code",
   "execution_count": 3,
   "id": "a3d31299",
   "metadata": {},
   "outputs": [
    {
     "name": "stdout",
     "output_type": "stream",
     "text": [
      "/v1/metrics/addresses/sending_to_exchanges_count\n"
     ]
    }
   ],
   "source": [
    "# view specific endpoint\n",
    "print(endpointData.path[0])"
   ]
  },
  {
   "cell_type": "code",
   "execution_count": 4,
   "id": "72e7b453",
   "metadata": {},
   "outputs": [
    {
     "name": "stdout",
     "output_type": "stream",
     "text": [
      "3\n"
     ]
    }
   ],
   "source": [
    "# view specific endpoint tier\n",
    "print(endpointData.tier[0])"
   ]
  },
  {
   "cell_type": "code",
   "execution_count": 5,
   "id": "28e7964f",
   "metadata": {},
   "outputs": [
    {
     "name": "stdout",
     "output_type": "stream",
     "text": [
      "2                            /v1/metrics/addresses/count\n",
      "3                    /v1/metrics/addresses/sending_count\n",
      "4                  /v1/metrics/addresses/receiving_count\n",
      "5                     /v1/metrics/addresses/active_count\n",
      "6               /v1/metrics/addresses/new_non_zero_count\n",
      "                             ...                        \n",
      "492                    /v1/metrics/signals/altcoin_index\n",
      "493                   /v1/metrics/signals/btc_risk_index\n",
      "494              /v1/metrics/signals/mcap_returns_vs_btc\n",
      "495    /v1/metrics/signals/l1_native_tokens_returns_v...\n",
      "496         /v1/metrics/signals/ecosystem_momentum_index\n",
      "Name: path, Length: 73, dtype: object\n"
     ]
    }
   ],
   "source": [
    "# all endpoints for specific tier \n",
    "print(endpointData.path[endpointData.tier == 1])"
   ]
  },
  {
   "cell_type": "code",
   "execution_count": 6,
   "id": "2dcb69e1",
   "metadata": {},
   "outputs": [
    {
     "name": "stdout",
     "output_type": "stream",
     "text": [
      "2                         /v1/metrics/addresses/count\n",
      "3                 /v1/metrics/addresses/sending_count\n",
      "4               /v1/metrics/addresses/receiving_count\n",
      "5                  /v1/metrics/addresses/active_count\n",
      "6            /v1/metrics/addresses/new_non_zero_count\n",
      "                            ...                      \n",
      "497        /v1/metrics/institutions/qbtc_holdings_sum\n",
      "498           /v1/metrics/institutions/qbtc_flows_sum\n",
      "499     /v1/metrics/institutions/qbtc_premium_percent\n",
      "500             /v1/metrics/institutions/qbtc_aum_sum\n",
      "501    /v1/metrics/institutions/qbtc_market_price_usd\n",
      "Name: path, Length: 336, dtype: object\n"
     ]
    }
   ],
   "source": [
    "# all endpoints for specific tier AND lower\n",
    "print(endpointData.path[endpointData.tier <= 2])"
   ]
  },
  {
   "cell_type": "code",
   "execution_count": 7,
   "id": "9bfc3ac8",
   "metadata": {},
   "outputs": [
    {
     "name": "stdout",
     "output_type": "stream",
     "text": [
      "                                  path  tier  \\\n",
      "355  /v1/metrics/market/price_usd_ohlc     1   \n",
      "\n",
      "                                                assets currencies resolutions  \\\n",
      "355  [{'symbol': 'BTC', 'name': 'Bitcoin', 'tags': ...   [NATIVE]   [1h, 24h]   \n",
      "\n",
      "         formats  \n",
      "355  [JSON, CSV]  \n"
     ]
    }
   ],
   "source": [
    "# find index/row number of endpoint by path\n",
    "endpointRow = endpointData[\n",
    "                endpointData.path == '/v1/metrics/market/price_usd_ohlc']\n",
    "print(endpointRow)"
   ]
  },
  {
   "cell_type": "code",
   "execution_count": 8,
   "id": "42858a5a",
   "metadata": {},
   "outputs": [
    {
     "name": "stdout",
     "output_type": "stream",
     "text": [
      "    symbol             name                    tags\n",
      "0      BTC          Bitcoin                   [top]\n",
      "1      ETH         Ethereum                   [top]\n",
      "2      LTC         Litecoin                   [top]\n",
      "3     TUSD          TrueUSD     [erc20, stablecoin]\n",
      "4    stETH  Lido Staked ETH                 [erc20]\n",
      "..     ...              ...                     ...\n",
      "124  ARMOR            ARMOR           [erc20, defi]\n",
      "125    DHT       dHedge DAO           [erc20, defi]\n",
      "126  Nsure    Nsure Network           [erc20, defi]\n",
      "127    NDX  Indexed Finance           [erc20, defi]\n",
      "128    DDX        DerivaDAO  [erc20, exchangeToken]\n",
      "\n",
      "[129 rows x 3 columns]\n"
     ]
    }
   ],
   "source": [
    "# supported assets by endpoint // in a DataFrame\n",
    "print(pd.DataFrame(endpointData.assets[endpointRow.index[0]]))"
   ]
  },
  {
   "cell_type": "code",
   "execution_count": 9,
   "id": "f9b44cfc",
   "metadata": {},
   "outputs": [
    {
     "name": "stdout",
     "output_type": "stream",
     "text": [
      "['1h', '24h']\n"
     ]
    }
   ],
   "source": [
    "# view data resolution, granularity\n",
    "print(endpointData.resolutions[endpointRow.index[0]])"
   ]
  },
  {
   "cell_type": "markdown",
   "id": "fa5385d0",
   "metadata": {},
   "source": [
    "### SAND Coin"
   ]
  },
  {
   "cell_type": "code",
   "execution_count": 10,
   "id": "d4b23864",
   "metadata": {},
   "outputs": [],
   "source": [
    "\"\"\"\n",
    "make API request to get candlestick data\n",
    "\"\"\"\n",
    "res = requests.get(\n",
    "    'https://api.glassnode.com/v1/metrics/market/price_usd_ohlc',\n",
    "    params={'a': 'SAND', 'api_key': API_KEY, 'i': '24h'}\n",
    ")"
   ]
  },
  {
   "cell_type": "code",
   "execution_count": 11,
   "id": "451b38df",
   "metadata": {},
   "outputs": [],
   "source": [
    "# convert to pandas dataframe\n",
    "candleData = pd.read_json(res.text, convert_dates=['t'])"
   ]
  },
  {
   "cell_type": "code",
   "execution_count": 12,
   "id": "de0e4662",
   "metadata": {},
   "outputs": [
    {
     "data": {
      "text/html": [
       "<div>\n",
       "<style scoped>\n",
       "    .dataframe tbody tr th:only-of-type {\n",
       "        vertical-align: middle;\n",
       "    }\n",
       "\n",
       "    .dataframe tbody tr th {\n",
       "        vertical-align: top;\n",
       "    }\n",
       "\n",
       "    .dataframe thead th {\n",
       "        text-align: right;\n",
       "    }\n",
       "</style>\n",
       "<table border=\"1\" class=\"dataframe\">\n",
       "  <thead>\n",
       "    <tr style=\"text-align: right;\">\n",
       "      <th></th>\n",
       "      <th>Date</th>\n",
       "      <th>Candles</th>\n",
       "    </tr>\n",
       "  </thead>\n",
       "  <tbody>\n",
       "    <tr>\n",
       "      <th>0</th>\n",
       "      <td>2020-08-14</td>\n",
       "      <td>{'c': 0.0648979043745, 'h': 0.0800782484509, '...</td>\n",
       "    </tr>\n",
       "    <tr>\n",
       "      <th>1</th>\n",
       "      <td>2020-08-15</td>\n",
       "      <td>{'c': 0.0509757625469, 'h': 0.0695048696963, '...</td>\n",
       "    </tr>\n",
       "    <tr>\n",
       "      <th>2</th>\n",
       "      <td>2020-08-16</td>\n",
       "      <td>{'c': 0.061159061088, 'h': 0.0681845041936, 'l...</td>\n",
       "    </tr>\n",
       "    <tr>\n",
       "      <th>3</th>\n",
       "      <td>2020-08-17</td>\n",
       "      <td>{'c': 0.0544849343315, 'h': 0.065060205589, 'l...</td>\n",
       "    </tr>\n",
       "    <tr>\n",
       "      <th>4</th>\n",
       "      <td>2020-08-18</td>\n",
       "      <td>{'c': 0.0514517811649, 'h': 0.0609618649515, '...</td>\n",
       "    </tr>\n",
       "    <tr>\n",
       "      <th>...</th>\n",
       "      <td>...</td>\n",
       "      <td>...</td>\n",
       "    </tr>\n",
       "    <tr>\n",
       "      <th>871</th>\n",
       "      <td>2023-01-02</td>\n",
       "      <td>{'c': 0.40927534040579205, 'h': 0.412426024442...</td>\n",
       "    </tr>\n",
       "    <tr>\n",
       "      <th>872</th>\n",
       "      <td>2023-01-03</td>\n",
       "      <td>{'c': 0.41723570758807205, 'h': 0.417235707588...</td>\n",
       "    </tr>\n",
       "    <tr>\n",
       "      <th>873</th>\n",
       "      <td>2023-01-04</td>\n",
       "      <td>{'c': 0.43197142119136306, 'h': 0.441253827091...</td>\n",
       "    </tr>\n",
       "    <tr>\n",
       "      <th>874</th>\n",
       "      <td>2023-01-05</td>\n",
       "      <td>{'c': 0.425516842743679, 'h': 0.44295550317829...</td>\n",
       "    </tr>\n",
       "    <tr>\n",
       "      <th>875</th>\n",
       "      <td>2023-01-06</td>\n",
       "      <td>{'c': 0.43241613678094104, 'h': 0.432527306513...</td>\n",
       "    </tr>\n",
       "  </tbody>\n",
       "</table>\n",
       "<p>876 rows × 2 columns</p>\n",
       "</div>"
      ],
      "text/plain": [
       "          Date                                            Candles\n",
       "0   2020-08-14  {'c': 0.0648979043745, 'h': 0.0800782484509, '...\n",
       "1   2020-08-15  {'c': 0.0509757625469, 'h': 0.0695048696963, '...\n",
       "2   2020-08-16  {'c': 0.061159061088, 'h': 0.0681845041936, 'l...\n",
       "3   2020-08-17  {'c': 0.0544849343315, 'h': 0.065060205589, 'l...\n",
       "4   2020-08-18  {'c': 0.0514517811649, 'h': 0.0609618649515, '...\n",
       "..         ...                                                ...\n",
       "871 2023-01-02  {'c': 0.40927534040579205, 'h': 0.412426024442...\n",
       "872 2023-01-03  {'c': 0.41723570758807205, 'h': 0.417235707588...\n",
       "873 2023-01-04  {'c': 0.43197142119136306, 'h': 0.441253827091...\n",
       "874 2023-01-05  {'c': 0.425516842743679, 'h': 0.44295550317829...\n",
       "875 2023-01-06  {'c': 0.43241613678094104, 'h': 0.432527306513...\n",
       "\n",
       "[876 rows x 2 columns]"
      ]
     },
     "execution_count": 12,
     "metadata": {},
     "output_type": "execute_result"
    }
   ],
   "source": [
    "# rename columns\n",
    "candleData = candleData.rename(columns={'t': 'Date', 'o': 'Candles'})\n",
    "\n",
    "candleData"
   ]
  },
  {
   "cell_type": "code",
   "execution_count": 13,
   "id": "aeb385af",
   "metadata": {},
   "outputs": [
    {
     "data": {
      "text/html": [
       "<div>\n",
       "<style scoped>\n",
       "    .dataframe tbody tr th:only-of-type {\n",
       "        vertical-align: middle;\n",
       "    }\n",
       "\n",
       "    .dataframe tbody tr th {\n",
       "        vertical-align: top;\n",
       "    }\n",
       "\n",
       "    .dataframe thead th {\n",
       "        text-align: right;\n",
       "    }\n",
       "</style>\n",
       "<table border=\"1\" class=\"dataframe\">\n",
       "  <thead>\n",
       "    <tr style=\"text-align: right;\">\n",
       "      <th></th>\n",
       "      <th>Candles</th>\n",
       "    </tr>\n",
       "    <tr>\n",
       "      <th>Date</th>\n",
       "      <th></th>\n",
       "    </tr>\n",
       "  </thead>\n",
       "  <tbody>\n",
       "    <tr>\n",
       "      <th>2020-08-14</th>\n",
       "      <td>{'c': 0.0648979043745, 'h': 0.0800782484509, '...</td>\n",
       "    </tr>\n",
       "    <tr>\n",
       "      <th>2020-08-15</th>\n",
       "      <td>{'c': 0.0509757625469, 'h': 0.0695048696963, '...</td>\n",
       "    </tr>\n",
       "    <tr>\n",
       "      <th>2020-08-16</th>\n",
       "      <td>{'c': 0.061159061088, 'h': 0.0681845041936, 'l...</td>\n",
       "    </tr>\n",
       "    <tr>\n",
       "      <th>2020-08-17</th>\n",
       "      <td>{'c': 0.0544849343315, 'h': 0.065060205589, 'l...</td>\n",
       "    </tr>\n",
       "    <tr>\n",
       "      <th>2020-08-18</th>\n",
       "      <td>{'c': 0.0514517811649, 'h': 0.0609618649515, '...</td>\n",
       "    </tr>\n",
       "    <tr>\n",
       "      <th>...</th>\n",
       "      <td>...</td>\n",
       "    </tr>\n",
       "    <tr>\n",
       "      <th>2023-01-02</th>\n",
       "      <td>{'c': 0.40927534040579205, 'h': 0.412426024442...</td>\n",
       "    </tr>\n",
       "    <tr>\n",
       "      <th>2023-01-03</th>\n",
       "      <td>{'c': 0.41723570758807205, 'h': 0.417235707588...</td>\n",
       "    </tr>\n",
       "    <tr>\n",
       "      <th>2023-01-04</th>\n",
       "      <td>{'c': 0.43197142119136306, 'h': 0.441253827091...</td>\n",
       "    </tr>\n",
       "    <tr>\n",
       "      <th>2023-01-05</th>\n",
       "      <td>{'c': 0.425516842743679, 'h': 0.44295550317829...</td>\n",
       "    </tr>\n",
       "    <tr>\n",
       "      <th>2023-01-06</th>\n",
       "      <td>{'c': 0.43241613678094104, 'h': 0.432527306513...</td>\n",
       "    </tr>\n",
       "  </tbody>\n",
       "</table>\n",
       "<p>876 rows × 1 columns</p>\n",
       "</div>"
      ],
      "text/plain": [
       "                                                      Candles\n",
       "Date                                                         \n",
       "2020-08-14  {'c': 0.0648979043745, 'h': 0.0800782484509, '...\n",
       "2020-08-15  {'c': 0.0509757625469, 'h': 0.0695048696963, '...\n",
       "2020-08-16  {'c': 0.061159061088, 'h': 0.0681845041936, 'l...\n",
       "2020-08-17  {'c': 0.0544849343315, 'h': 0.065060205589, 'l...\n",
       "2020-08-18  {'c': 0.0514517811649, 'h': 0.0609618649515, '...\n",
       "...                                                       ...\n",
       "2023-01-02  {'c': 0.40927534040579205, 'h': 0.412426024442...\n",
       "2023-01-03  {'c': 0.41723570758807205, 'h': 0.417235707588...\n",
       "2023-01-04  {'c': 0.43197142119136306, 'h': 0.441253827091...\n",
       "2023-01-05  {'c': 0.425516842743679, 'h': 0.44295550317829...\n",
       "2023-01-06  {'c': 0.43241613678094104, 'h': 0.432527306513...\n",
       "\n",
       "[876 rows x 1 columns]"
      ]
     },
     "execution_count": 13,
     "metadata": {},
     "output_type": "execute_result"
    }
   ],
   "source": [
    "# set index to date\n",
    "candleData = candleData.set_index('Date')\n",
    "\n",
    "candleData"
   ]
  },
  {
   "cell_type": "code",
   "execution_count": 14,
   "id": "eb2ae4f6",
   "metadata": {},
   "outputs": [],
   "source": [
    "# turn candle dictionaries into individual series\n",
    "candleData = candleData.Candles.apply(pd.Series)"
   ]
  },
  {
   "cell_type": "code",
   "execution_count": 15,
   "id": "9b88d004",
   "metadata": {},
   "outputs": [],
   "source": [
    "# rename columns\n",
    "candleData = candleData.rename(columns={'c': 'Close', 'h': 'High', \n",
    "                                        'l': 'Low', 'o': 'Open'})"
   ]
  },
  {
   "cell_type": "code",
   "execution_count": 16,
   "id": "895e41eb",
   "metadata": {},
   "outputs": [
    {
     "data": {
      "text/html": [
       "<div>\n",
       "<style scoped>\n",
       "    .dataframe tbody tr th:only-of-type {\n",
       "        vertical-align: middle;\n",
       "    }\n",
       "\n",
       "    .dataframe tbody tr th {\n",
       "        vertical-align: top;\n",
       "    }\n",
       "\n",
       "    .dataframe thead th {\n",
       "        text-align: right;\n",
       "    }\n",
       "</style>\n",
       "<table border=\"1\" class=\"dataframe\">\n",
       "  <thead>\n",
       "    <tr style=\"text-align: right;\">\n",
       "      <th></th>\n",
       "      <th>Close</th>\n",
       "      <th>High</th>\n",
       "      <th>Low</th>\n",
       "      <th>Open</th>\n",
       "    </tr>\n",
       "    <tr>\n",
       "      <th>Date</th>\n",
       "      <th></th>\n",
       "      <th></th>\n",
       "      <th></th>\n",
       "      <th></th>\n",
       "    </tr>\n",
       "  </thead>\n",
       "  <tbody>\n",
       "    <tr>\n",
       "      <th>2020-08-14</th>\n",
       "      <td>0.064898</td>\n",
       "      <td>0.080078</td>\n",
       "      <td>0.061077</td>\n",
       "      <td>0.079072</td>\n",
       "    </tr>\n",
       "    <tr>\n",
       "      <th>2020-08-15</th>\n",
       "      <td>0.050976</td>\n",
       "      <td>0.069505</td>\n",
       "      <td>0.049068</td>\n",
       "      <td>0.066454</td>\n",
       "    </tr>\n",
       "    <tr>\n",
       "      <th>2020-08-16</th>\n",
       "      <td>0.061159</td>\n",
       "      <td>0.068185</td>\n",
       "      <td>0.048238</td>\n",
       "      <td>0.051162</td>\n",
       "    </tr>\n",
       "    <tr>\n",
       "      <th>2020-08-17</th>\n",
       "      <td>0.054485</td>\n",
       "      <td>0.065060</td>\n",
       "      <td>0.052646</td>\n",
       "      <td>0.060723</td>\n",
       "    </tr>\n",
       "    <tr>\n",
       "      <th>2020-08-18</th>\n",
       "      <td>0.051452</td>\n",
       "      <td>0.060962</td>\n",
       "      <td>0.050957</td>\n",
       "      <td>0.053718</td>\n",
       "    </tr>\n",
       "    <tr>\n",
       "      <th>...</th>\n",
       "      <td>...</td>\n",
       "      <td>...</td>\n",
       "      <td>...</td>\n",
       "      <td>...</td>\n",
       "    </tr>\n",
       "    <tr>\n",
       "      <th>2023-01-02</th>\n",
       "      <td>0.409275</td>\n",
       "      <td>0.412426</td>\n",
       "      <td>0.382559</td>\n",
       "      <td>0.388771</td>\n",
       "    </tr>\n",
       "    <tr>\n",
       "      <th>2023-01-03</th>\n",
       "      <td>0.417236</td>\n",
       "      <td>0.417236</td>\n",
       "      <td>0.403300</td>\n",
       "      <td>0.409385</td>\n",
       "    </tr>\n",
       "    <tr>\n",
       "      <th>2023-01-04</th>\n",
       "      <td>0.431971</td>\n",
       "      <td>0.441254</td>\n",
       "      <td>0.414609</td>\n",
       "      <td>0.417720</td>\n",
       "    </tr>\n",
       "    <tr>\n",
       "      <th>2023-01-05</th>\n",
       "      <td>0.425517</td>\n",
       "      <td>0.442956</td>\n",
       "      <td>0.424204</td>\n",
       "      <td>0.433084</td>\n",
       "    </tr>\n",
       "    <tr>\n",
       "      <th>2023-01-06</th>\n",
       "      <td>0.432416</td>\n",
       "      <td>0.432527</td>\n",
       "      <td>0.408862</td>\n",
       "      <td>0.425461</td>\n",
       "    </tr>\n",
       "  </tbody>\n",
       "</table>\n",
       "<p>876 rows × 4 columns</p>\n",
       "</div>"
      ],
      "text/plain": [
       "               Close      High       Low      Open\n",
       "Date                                              \n",
       "2020-08-14  0.064898  0.080078  0.061077  0.079072\n",
       "2020-08-15  0.050976  0.069505  0.049068  0.066454\n",
       "2020-08-16  0.061159  0.068185  0.048238  0.051162\n",
       "2020-08-17  0.054485  0.065060  0.052646  0.060723\n",
       "2020-08-18  0.051452  0.060962  0.050957  0.053718\n",
       "...              ...       ...       ...       ...\n",
       "2023-01-02  0.409275  0.412426  0.382559  0.388771\n",
       "2023-01-03  0.417236  0.417236  0.403300  0.409385\n",
       "2023-01-04  0.431971  0.441254  0.414609  0.417720\n",
       "2023-01-05  0.425517  0.442956  0.424204  0.433084\n",
       "2023-01-06  0.432416  0.432527  0.408862  0.425461\n",
       "\n",
       "[876 rows x 4 columns]"
      ]
     },
     "execution_count": 16,
     "metadata": {},
     "output_type": "execute_result"
    }
   ],
   "source": [
    "candleData"
   ]
  },
  {
   "cell_type": "code",
   "execution_count": 17,
   "id": "ed99aa86",
   "metadata": {},
   "outputs": [
    {
     "data": {
      "text/plain": [
       "'temp-plot.html'"
      ]
     },
     "execution_count": 17,
     "metadata": {},
     "output_type": "execute_result"
    }
   ],
   "source": [
    "# generate plotly figure\n",
    "fig = go.Figure(data=[go.Candlestick(x=candleData.index,\n",
    "                open=candleData['Open'],\n",
    "                high=candleData['High'],\n",
    "                low=candleData['Low'],\n",
    "                close=candleData['Close'])])\n",
    "\n",
    "# open figure in browser\n",
    "plot(fig, auto_open=True)"
   ]
  },
  {
   "cell_type": "code",
   "execution_count": 18,
   "id": "343744a7",
   "metadata": {},
   "outputs": [],
   "source": [
    "\"\"\"\n",
    "make request to get total addresses // SAND\n",
    "\"\"\"\n",
    "res2 = requests.get(\n",
    "    'https://api.glassnode.com/v1/metrics/addresses/count',\n",
    "    params={'a': 'SAND', 'api_key': API_KEY}\n",
    ")"
   ]
  },
  {
   "cell_type": "code",
   "execution_count": 19,
   "id": "1c901d58",
   "metadata": {},
   "outputs": [],
   "source": [
    "# convert to pandas dataframe\n",
    "addressData = pd.read_json(res2.text, convert_dates=['t'])"
   ]
  },
  {
   "cell_type": "code",
   "execution_count": 20,
   "id": "d406f771",
   "metadata": {},
   "outputs": [],
   "source": [
    "# rename columns\n",
    "addressData = addressData.rename(columns={'t': 'Date', 'v': 'numAddresses'})"
   ]
  },
  {
   "cell_type": "code",
   "execution_count": 21,
   "id": "e1d25828",
   "metadata": {},
   "outputs": [],
   "source": [
    "# set index to date\n",
    "addressData = addressData.set_index('Date')"
   ]
  },
  {
   "cell_type": "code",
   "execution_count": 22,
   "id": "0e12fb0e",
   "metadata": {},
   "outputs": [
    {
     "data": {
      "text/html": [
       "<div>\n",
       "<style scoped>\n",
       "    .dataframe tbody tr th:only-of-type {\n",
       "        vertical-align: middle;\n",
       "    }\n",
       "\n",
       "    .dataframe tbody tr th {\n",
       "        vertical-align: top;\n",
       "    }\n",
       "\n",
       "    .dataframe thead th {\n",
       "        text-align: right;\n",
       "    }\n",
       "</style>\n",
       "<table border=\"1\" class=\"dataframe\">\n",
       "  <thead>\n",
       "    <tr style=\"text-align: right;\">\n",
       "      <th></th>\n",
       "      <th>numAddresses</th>\n",
       "    </tr>\n",
       "    <tr>\n",
       "      <th>Date</th>\n",
       "      <th></th>\n",
       "    </tr>\n",
       "  </thead>\n",
       "  <tbody>\n",
       "    <tr>\n",
       "      <th>2019-10-29</th>\n",
       "      <td>2</td>\n",
       "    </tr>\n",
       "    <tr>\n",
       "      <th>2019-10-30</th>\n",
       "      <td>2</td>\n",
       "    </tr>\n",
       "    <tr>\n",
       "      <th>2019-10-31</th>\n",
       "      <td>2</td>\n",
       "    </tr>\n",
       "    <tr>\n",
       "      <th>2019-11-01</th>\n",
       "      <td>2</td>\n",
       "    </tr>\n",
       "    <tr>\n",
       "      <th>2019-11-02</th>\n",
       "      <td>2</td>\n",
       "    </tr>\n",
       "    <tr>\n",
       "      <th>...</th>\n",
       "      <td>...</td>\n",
       "    </tr>\n",
       "    <tr>\n",
       "      <th>2023-01-01</th>\n",
       "      <td>420385</td>\n",
       "    </tr>\n",
       "    <tr>\n",
       "      <th>2023-01-02</th>\n",
       "      <td>420706</td>\n",
       "    </tr>\n",
       "    <tr>\n",
       "      <th>2023-01-03</th>\n",
       "      <td>421015</td>\n",
       "    </tr>\n",
       "    <tr>\n",
       "      <th>2023-01-04</th>\n",
       "      <td>421335</td>\n",
       "    </tr>\n",
       "    <tr>\n",
       "      <th>2023-01-05</th>\n",
       "      <td>421632</td>\n",
       "    </tr>\n",
       "  </tbody>\n",
       "</table>\n",
       "<p>1165 rows × 1 columns</p>\n",
       "</div>"
      ],
      "text/plain": [
       "            numAddresses\n",
       "Date                    \n",
       "2019-10-29             2\n",
       "2019-10-30             2\n",
       "2019-10-31             2\n",
       "2019-11-01             2\n",
       "2019-11-02             2\n",
       "...                  ...\n",
       "2023-01-01        420385\n",
       "2023-01-02        420706\n",
       "2023-01-03        421015\n",
       "2023-01-04        421335\n",
       "2023-01-05        421632\n",
       "\n",
       "[1165 rows x 1 columns]"
      ]
     },
     "execution_count": 22,
     "metadata": {},
     "output_type": "execute_result"
    }
   ],
   "source": [
    "addressData"
   ]
  },
  {
   "cell_type": "code",
   "execution_count": 23,
   "id": "76fad9d1",
   "metadata": {},
   "outputs": [
    {
     "data": {
      "text/plain": [
       "<AxesSubplot:xlabel='Date'>"
      ]
     },
     "execution_count": 23,
     "metadata": {},
     "output_type": "execute_result"
    },
    {
     "data": {
      "image/png": "[encoded data removed]",
      "text/plain": [
       "<Figure size 432x288 with 1 Axes>"
      ]
     },
     "metadata": {
      "needs_background": "light"
     },
     "output_type": "display_data"
    }
   ],
   "source": [
    "# plot address data\n",
    "addressData.plot()"
   ]
  },
  {
   "cell_type": "code",
   "execution_count": 24,
   "id": "f36c409b",
   "metadata": {},
   "outputs": [],
   "source": [
    "\"\"\"\n",
    "make a request to get % Circulating Supply // SAND\n",
    "\"\"\"\n",
    "\n",
    "res3 = requests.get(\n",
    "    'https://api.glassnode.com/v1/metrics/supply/current',\n",
    "    params={'a': 'SAND', 'api_key': API_KEY}\n",
    ")"
   ]
  },
  {
   "cell_type": "code",
   "execution_count": 25,
   "id": "47c7bf26",
   "metadata": {},
   "outputs": [],
   "source": [
    "# convert to pandas dataframe\n",
    "supplyData = pd.read_json(res3.text, convert_dates=['t'])"
   ]
  },
  {
   "cell_type": "code",
   "execution_count": 26,
   "id": "0dfd841b",
   "metadata": {},
   "outputs": [],
   "source": [
    "# rename columns\n",
    "supplyData = supplyData.rename(columns={'t': 'Date', 'v': 'LongTermSupply'})"
   ]
  },
  {
   "cell_type": "code",
   "execution_count": 27,
   "id": "e1c449eb",
   "metadata": {},
   "outputs": [
    {
     "name": "stdout",
     "output_type": "stream",
     "text": [
      "<class 'pandas.core.frame.DataFrame'>\n",
      "RangeIndex: 875 entries, 0 to 874\n",
      "Data columns (total 2 columns):\n",
      " #   Column          Non-Null Count  Dtype         \n",
      "---  ------          --------------  -----         \n",
      " 0   Date            875 non-null    datetime64[ns]\n",
      " 1   LongTermSupply  875 non-null    float64       \n",
      "dtypes: datetime64[ns](1), float64(1)\n",
      "memory usage: 13.8 KB\n"
     ]
    }
   ],
   "source": [
    "supplyData.info()"
   ]
  },
  {
   "cell_type": "code",
   "execution_count": 28,
   "id": "d431aa6e",
   "metadata": {},
   "outputs": [],
   "source": [
    "# set index to date\n",
    "supplyData = supplyData.set_index('Date')"
   ]
  },
  {
   "cell_type": "code",
   "execution_count": 29,
   "id": "65a5849e",
   "metadata": {},
   "outputs": [
    {
     "data": {
      "text/plain": [
       "<AxesSubplot:xlabel='Date'>"
      ]
     },
     "execution_count": 29,
     "metadata": {},
     "output_type": "execute_result"
    },
    {
     "data": {
      "image/png": "[encoded data removed]",
      "text/plain": [
       "<Figure size 432x288 with 1 Axes>"
      ]
     },
     "metadata": {
      "needs_background": "light"
     },
     "output_type": "display_data"
    }
   ],
   "source": [
    "# plot supply data\n",
    "supplyData.plot()"
   ]
  },
  {
   "cell_type": "markdown",
   "id": "d85aeb20",
   "metadata": {},
   "source": [
    "### ENJ (Enjin Coin)"
   ]
  },
  {
   "cell_type": "code",
   "execution_count": 35,
   "id": "b11b336f",
   "metadata": {},
   "outputs": [],
   "source": [
    "\"\"\"\n",
    "make API request to get candlestick data\n",
    "\"\"\"\n",
    "res4 = requests.get(\n",
    "    'https://api.glassnode.com/v1/metrics/market/price_usd_ohlc',\n",
    "    params={'a': 'ENJ', 'api_key': API_KEY, 'i': '24h'}\n",
    ")"
   ]
  },
  {
   "cell_type": "code",
   "execution_count": 36,
   "id": "a34423a5",
   "metadata": {},
   "outputs": [],
   "source": [
    "# convert to pandas dataframe\n",
    "candleData2 = pd.read_json(res4.text, convert_dates=['t'])"
   ]
  },
  {
   "cell_type": "code",
   "execution_count": 37,
   "id": "022151b7",
   "metadata": {},
   "outputs": [
    {
     "data": {
      "text/html": [
       "<div>\n",
       "<style scoped>\n",
       "    .dataframe tbody tr th:only-of-type {\n",
       "        vertical-align: middle;\n",
       "    }\n",
       "\n",
       "    .dataframe tbody tr th {\n",
       "        vertical-align: top;\n",
       "    }\n",
       "\n",
       "    .dataframe thead th {\n",
       "        text-align: right;\n",
       "    }\n",
       "</style>\n",
       "<table border=\"1\" class=\"dataframe\">\n",
       "  <thead>\n",
       "    <tr style=\"text-align: right;\">\n",
       "      <th></th>\n",
       "      <th>Date</th>\n",
       "      <th>Candles</th>\n",
       "    </tr>\n",
       "  </thead>\n",
       "  <tbody>\n",
       "    <tr>\n",
       "      <th>0</th>\n",
       "      <td>2018-02-16</td>\n",
       "      <td>{'c': 0.18698099999999998, 'h': 0.189926999999...</td>\n",
       "    </tr>\n",
       "    <tr>\n",
       "      <th>1</th>\n",
       "      <td>2018-02-17</td>\n",
       "      <td>{'c': 0.21625000000000003, 'h': 0.227827, 'l':...</td>\n",
       "    </tr>\n",
       "    <tr>\n",
       "      <th>2</th>\n",
       "      <td>2018-02-18</td>\n",
       "      <td>{'c': 0.197294, 'h': 0.23166699999999998, 'l':...</td>\n",
       "    </tr>\n",
       "    <tr>\n",
       "      <th>3</th>\n",
       "      <td>2018-02-19</td>\n",
       "      <td>{'c': 0.244659, 'h': 0.250839, 'l': 0.192439, ...</td>\n",
       "    </tr>\n",
       "    <tr>\n",
       "      <th>4</th>\n",
       "      <td>2018-02-20</td>\n",
       "      <td>{'c': 0.207512, 'h': 0.269333, 'l': 0.20624499...</td>\n",
       "    </tr>\n",
       "    <tr>\n",
       "      <th>...</th>\n",
       "      <td>...</td>\n",
       "      <td>...</td>\n",
       "    </tr>\n",
       "    <tr>\n",
       "      <th>1781</th>\n",
       "      <td>2023-01-02</td>\n",
       "      <td>{'c': 0.24900863281820002, 'h': 0.250967449570...</td>\n",
       "    </tr>\n",
       "    <tr>\n",
       "      <th>1782</th>\n",
       "      <td>2023-01-03</td>\n",
       "      <td>{'c': 0.24450066648871602, 'h': 0.250004664093...</td>\n",
       "    </tr>\n",
       "    <tr>\n",
       "      <th>1783</th>\n",
       "      <td>2023-01-04</td>\n",
       "      <td>{'c': 0.25006039398198204, 'h': 0.252329219246...</td>\n",
       "    </tr>\n",
       "    <tr>\n",
       "      <th>1784</th>\n",
       "      <td>2023-01-05</td>\n",
       "      <td>{'c': 0.250762514111674, 'h': 0.25568869642828...</td>\n",
       "    </tr>\n",
       "    <tr>\n",
       "      <th>1785</th>\n",
       "      <td>2023-01-06</td>\n",
       "      <td>{'c': 0.257038577804356, 'h': 0.25703857780435...</td>\n",
       "    </tr>\n",
       "  </tbody>\n",
       "</table>\n",
       "<p>1786 rows × 2 columns</p>\n",
       "</div>"
      ],
      "text/plain": [
       "           Date                                            Candles\n",
       "0    2018-02-16  {'c': 0.18698099999999998, 'h': 0.189926999999...\n",
       "1    2018-02-17  {'c': 0.21625000000000003, 'h': 0.227827, 'l':...\n",
       "2    2018-02-18  {'c': 0.197294, 'h': 0.23166699999999998, 'l':...\n",
       "3    2018-02-19  {'c': 0.244659, 'h': 0.250839, 'l': 0.192439, ...\n",
       "4    2018-02-20  {'c': 0.207512, 'h': 0.269333, 'l': 0.20624499...\n",
       "...         ...                                                ...\n",
       "1781 2023-01-02  {'c': 0.24900863281820002, 'h': 0.250967449570...\n",
       "1782 2023-01-03  {'c': 0.24450066648871602, 'h': 0.250004664093...\n",
       "1783 2023-01-04  {'c': 0.25006039398198204, 'h': 0.252329219246...\n",
       "1784 2023-01-05  {'c': 0.250762514111674, 'h': 0.25568869642828...\n",
       "1785 2023-01-06  {'c': 0.257038577804356, 'h': 0.25703857780435...\n",
       "\n",
       "[1786 rows x 2 columns]"
      ]
     },
     "execution_count": 37,
     "metadata": {},
     "output_type": "execute_result"
    }
   ],
   "source": [
    "# rename columns\n",
    "candleData2 = candleData2.rename(columns={'t': 'Date', 'o': 'Candles'})\n",
    "\n",
    "candleData2"
   ]
  },
  {
   "cell_type": "code",
   "execution_count": 38,
   "id": "5688357c",
   "metadata": {},
   "outputs": [
    {
     "data": {
      "text/html": [
       "<div>\n",
       "<style scoped>\n",
       "    .dataframe tbody tr th:only-of-type {\n",
       "        vertical-align: middle;\n",
       "    }\n",
       "\n",
       "    .dataframe tbody tr th {\n",
       "        vertical-align: top;\n",
       "    }\n",
       "\n",
       "    .dataframe thead th {\n",
       "        text-align: right;\n",
       "    }\n",
       "</style>\n",
       "<table border=\"1\" class=\"dataframe\">\n",
       "  <thead>\n",
       "    <tr style=\"text-align: right;\">\n",
       "      <th></th>\n",
       "      <th>Candles</th>\n",
       "    </tr>\n",
       "    <tr>\n",
       "      <th>Date</th>\n",
       "      <th></th>\n",
       "    </tr>\n",
       "  </thead>\n",
       "  <tbody>\n",
       "    <tr>\n",
       "      <th>2018-02-16</th>\n",
       "      <td>{'c': 0.18698099999999998, 'h': 0.189926999999...</td>\n",
       "    </tr>\n",
       "    <tr>\n",
       "      <th>2018-02-17</th>\n",
       "      <td>{'c': 0.21625000000000003, 'h': 0.227827, 'l':...</td>\n",
       "    </tr>\n",
       "    <tr>\n",
       "      <th>2018-02-18</th>\n",
       "      <td>{'c': 0.197294, 'h': 0.23166699999999998, 'l':...</td>\n",
       "    </tr>\n",
       "    <tr>\n",
       "      <th>2018-02-19</th>\n",
       "      <td>{'c': 0.244659, 'h': 0.250839, 'l': 0.192439, ...</td>\n",
       "    </tr>\n",
       "    <tr>\n",
       "      <th>2018-02-20</th>\n",
       "      <td>{'c': 0.207512, 'h': 0.269333, 'l': 0.20624499...</td>\n",
       "    </tr>\n",
       "    <tr>\n",
       "      <th>...</th>\n",
       "      <td>...</td>\n",
       "    </tr>\n",
       "    <tr>\n",
       "      <th>2023-01-02</th>\n",
       "      <td>{'c': 0.24900863281820002, 'h': 0.250967449570...</td>\n",
       "    </tr>\n",
       "    <tr>\n",
       "      <th>2023-01-03</th>\n",
       "      <td>{'c': 0.24450066648871602, 'h': 0.250004664093...</td>\n",
       "    </tr>\n",
       "    <tr>\n",
       "      <th>2023-01-04</th>\n",
       "      <td>{'c': 0.25006039398198204, 'h': 0.252329219246...</td>\n",
       "    </tr>\n",
       "    <tr>\n",
       "      <th>2023-01-05</th>\n",
       "      <td>{'c': 0.250762514111674, 'h': 0.25568869642828...</td>\n",
       "    </tr>\n",
       "    <tr>\n",
       "      <th>2023-01-06</th>\n",
       "      <td>{'c': 0.257038577804356, 'h': 0.25703857780435...</td>\n",
       "    </tr>\n",
       "  </tbody>\n",
       "</table>\n",
       "<p>1786 rows × 1 columns</p>\n",
       "</div>"
      ],
      "text/plain": [
       "                                                      Candles\n",
       "Date                                                         \n",
       "2018-02-16  {'c': 0.18698099999999998, 'h': 0.189926999999...\n",
       "2018-02-17  {'c': 0.21625000000000003, 'h': 0.227827, 'l':...\n",
       "2018-02-18  {'c': 0.197294, 'h': 0.23166699999999998, 'l':...\n",
       "2018-02-19  {'c': 0.244659, 'h': 0.250839, 'l': 0.192439, ...\n",
       "2018-02-20  {'c': 0.207512, 'h': 0.269333, 'l': 0.20624499...\n",
       "...                                                       ...\n",
       "2023-01-02  {'c': 0.24900863281820002, 'h': 0.250967449570...\n",
       "2023-01-03  {'c': 0.24450066648871602, 'h': 0.250004664093...\n",
       "2023-01-04  {'c': 0.25006039398198204, 'h': 0.252329219246...\n",
       "2023-01-05  {'c': 0.250762514111674, 'h': 0.25568869642828...\n",
       "2023-01-06  {'c': 0.257038577804356, 'h': 0.25703857780435...\n",
       "\n",
       "[1786 rows x 1 columns]"
      ]
     },
     "execution_count": 38,
     "metadata": {},
     "output_type": "execute_result"
    }
   ],
   "source": [
    "# set index to date\n",
    "candleData2 = candleData2.set_index('Date')\n",
    "\n",
    "candleData2"
   ]
  },
  {
   "cell_type": "code",
   "execution_count": 39,
   "id": "416258c4",
   "metadata": {},
   "outputs": [],
   "source": [
    "# turn candle dictionaries into individual series\n",
    "candleData2 = candleData2.Candles.apply(pd.Series)"
   ]
  },
  {
   "cell_type": "code",
   "execution_count": 40,
   "id": "15037c35",
   "metadata": {},
   "outputs": [],
   "source": [
    "# rename columns\n",
    "candleData2 = candleData2.rename(columns={'c': 'Close', 'h': 'High', \n",
    "                                        'l': 'Low', 'o': 'Open'})"
   ]
  },
  {
   "cell_type": "code",
   "execution_count": 41,
   "id": "630f75ad",
   "metadata": {},
   "outputs": [
    {
     "data": {
      "text/html": [
       "<div>\n",
       "<style scoped>\n",
       "    .dataframe tbody tr th:only-of-type {\n",
       "        vertical-align: middle;\n",
       "    }\n",
       "\n",
       "    .dataframe tbody tr th {\n",
       "        vertical-align: top;\n",
       "    }\n",
       "\n",
       "    .dataframe thead th {\n",
       "        text-align: right;\n",
       "    }\n",
       "</style>\n",
       "<table border=\"1\" class=\"dataframe\">\n",
       "  <thead>\n",
       "    <tr style=\"text-align: right;\">\n",
       "      <th></th>\n",
       "      <th>Close</th>\n",
       "      <th>High</th>\n",
       "      <th>Low</th>\n",
       "      <th>Open</th>\n",
       "    </tr>\n",
       "    <tr>\n",
       "      <th>Date</th>\n",
       "      <th></th>\n",
       "      <th></th>\n",
       "      <th></th>\n",
       "      <th></th>\n",
       "    </tr>\n",
       "  </thead>\n",
       "  <tbody>\n",
       "    <tr>\n",
       "      <th>2018-02-16</th>\n",
       "      <td>0.186981</td>\n",
       "      <td>0.189927</td>\n",
       "      <td>0.177517</td>\n",
       "      <td>0.177517</td>\n",
       "    </tr>\n",
       "    <tr>\n",
       "      <th>2018-02-17</th>\n",
       "      <td>0.216250</td>\n",
       "      <td>0.227827</td>\n",
       "      <td>0.187097</td>\n",
       "      <td>0.188295</td>\n",
       "    </tr>\n",
       "    <tr>\n",
       "      <th>2018-02-18</th>\n",
       "      <td>0.197294</td>\n",
       "      <td>0.231667</td>\n",
       "      <td>0.187547</td>\n",
       "      <td>0.214453</td>\n",
       "    </tr>\n",
       "    <tr>\n",
       "      <th>2018-02-19</th>\n",
       "      <td>0.244659</td>\n",
       "      <td>0.250839</td>\n",
       "      <td>0.192439</td>\n",
       "      <td>0.195508</td>\n",
       "    </tr>\n",
       "    <tr>\n",
       "      <th>2018-02-20</th>\n",
       "      <td>0.207512</td>\n",
       "      <td>0.269333</td>\n",
       "      <td>0.206245</td>\n",
       "      <td>0.241989</td>\n",
       "    </tr>\n",
       "    <tr>\n",
       "      <th>...</th>\n",
       "      <td>...</td>\n",
       "      <td>...</td>\n",
       "      <td>...</td>\n",
       "      <td>...</td>\n",
       "    </tr>\n",
       "    <tr>\n",
       "      <th>2023-01-02</th>\n",
       "      <td>0.249009</td>\n",
       "      <td>0.250967</td>\n",
       "      <td>0.238544</td>\n",
       "      <td>0.243516</td>\n",
       "    </tr>\n",
       "    <tr>\n",
       "      <th>2023-01-03</th>\n",
       "      <td>0.244501</td>\n",
       "      <td>0.250005</td>\n",
       "      <td>0.240637</td>\n",
       "      <td>0.248870</td>\n",
       "    </tr>\n",
       "    <tr>\n",
       "      <th>2023-01-04</th>\n",
       "      <td>0.250060</td>\n",
       "      <td>0.252329</td>\n",
       "      <td>0.243500</td>\n",
       "      <td>0.244521</td>\n",
       "    </tr>\n",
       "    <tr>\n",
       "      <th>2023-01-05</th>\n",
       "      <td>0.250763</td>\n",
       "      <td>0.255689</td>\n",
       "      <td>0.248777</td>\n",
       "      <td>0.250183</td>\n",
       "    </tr>\n",
       "    <tr>\n",
       "      <th>2023-01-06</th>\n",
       "      <td>0.257039</td>\n",
       "      <td>0.257039</td>\n",
       "      <td>0.247166</td>\n",
       "      <td>0.250638</td>\n",
       "    </tr>\n",
       "  </tbody>\n",
       "</table>\n",
       "<p>1786 rows × 4 columns</p>\n",
       "</div>"
      ],
      "text/plain": [
       "               Close      High       Low      Open\n",
       "Date                                              \n",
       "2018-02-16  0.186981  0.189927  0.177517  0.177517\n",
       "2018-02-17  0.216250  0.227827  0.187097  0.188295\n",
       "2018-02-18  0.197294  0.231667  0.187547  0.214453\n",
       "2018-02-19  0.244659  0.250839  0.192439  0.195508\n",
       "2018-02-20  0.207512  0.269333  0.206245  0.241989\n",
       "...              ...       ...       ...       ...\n",
       "2023-01-02  0.249009  0.250967  0.238544  0.243516\n",
       "2023-01-03  0.244501  0.250005  0.240637  0.248870\n",
       "2023-01-04  0.250060  0.252329  0.243500  0.244521\n",
       "2023-01-05  0.250763  0.255689  0.248777  0.250183\n",
       "2023-01-06  0.257039  0.257039  0.247166  0.250638\n",
       "\n",
       "[1786 rows x 4 columns]"
      ]
     },
     "execution_count": 41,
     "metadata": {},
     "output_type": "execute_result"
    }
   ],
   "source": [
    "candleData2"
   ]
  },
  {
   "cell_type": "code",
   "execution_count": 42,
   "id": "32c7faac",
   "metadata": {},
   "outputs": [
    {
     "data": {
      "text/plain": [
       "'temp-plot.html'"
      ]
     },
     "execution_count": 42,
     "metadata": {},
     "output_type": "execute_result"
    }
   ],
   "source": [
    "# generate plotly figure\n",
    "fig = go.Figure(data=[go.Candlestick(x=candleData2.index,\n",
    "                open=candleData2['Open'],\n",
    "                high=candleData2['High'],\n",
    "                low=candleData2['Low'],\n",
    "                close=candleData2['Close'])])\n",
    "\n",
    "# open figure in browser\n",
    "plot(fig, auto_open=True)"
   ]
  },
  {
   "cell_type": "code",
   "execution_count": 43,
   "id": "cd2a7c3f",
   "metadata": {},
   "outputs": [],
   "source": [
    "# make request to get total addresses // MANA\n",
    "res5 = requests.get(\n",
    "    'https://api.glassnode.com/v1/metrics/addresses/count',\n",
    "    params={'a': 'ENJ', 'api_key': API_KEY}\n",
    ")"
   ]
  },
  {
   "cell_type": "code",
   "execution_count": 44,
   "id": "110333a0",
   "metadata": {},
   "outputs": [],
   "source": [
    "# convert to pandas dataframe\n",
    "addressData2 = pd.read_json(res5.text, convert_dates=['t'])"
   ]
  },
  {
   "cell_type": "code",
   "execution_count": 45,
   "id": "59ba46ca",
   "metadata": {},
   "outputs": [],
   "source": [
    "# rename columns\n",
    "addressData2 = addressData2.rename(columns={'t': 'Date', 'v': 'numAddresses'})"
   ]
  },
  {
   "cell_type": "code",
   "execution_count": 46,
   "id": "ee0ae556",
   "metadata": {},
   "outputs": [],
   "source": [
    "# set index to date\n",
    "addressData2 = addressData2.set_index('Date')"
   ]
  },
  {
   "cell_type": "code",
   "execution_count": 47,
   "id": "33222f35",
   "metadata": {},
   "outputs": [
    {
     "data": {
      "text/html": [
       "<div>\n",
       "<style scoped>\n",
       "    .dataframe tbody tr th:only-of-type {\n",
       "        vertical-align: middle;\n",
       "    }\n",
       "\n",
       "    .dataframe tbody tr th {\n",
       "        vertical-align: top;\n",
       "    }\n",
       "\n",
       "    .dataframe thead th {\n",
       "        text-align: right;\n",
       "    }\n",
       "</style>\n",
       "<table border=\"1\" class=\"dataframe\">\n",
       "  <thead>\n",
       "    <tr style=\"text-align: right;\">\n",
       "      <th></th>\n",
       "      <th>numAddresses</th>\n",
       "    </tr>\n",
       "    <tr>\n",
       "      <th>Date</th>\n",
       "      <th></th>\n",
       "    </tr>\n",
       "  </thead>\n",
       "  <tbody>\n",
       "    <tr>\n",
       "      <th>2017-10-02</th>\n",
       "      <td>3199</td>\n",
       "    </tr>\n",
       "    <tr>\n",
       "      <th>2017-10-03</th>\n",
       "      <td>5972</td>\n",
       "    </tr>\n",
       "    <tr>\n",
       "      <th>2017-10-04</th>\n",
       "      <td>6947</td>\n",
       "    </tr>\n",
       "    <tr>\n",
       "      <th>2017-10-05</th>\n",
       "      <td>7602</td>\n",
       "    </tr>\n",
       "    <tr>\n",
       "      <th>2017-10-06</th>\n",
       "      <td>8124</td>\n",
       "    </tr>\n",
       "    <tr>\n",
       "      <th>...</th>\n",
       "      <td>...</td>\n",
       "    </tr>\n",
       "    <tr>\n",
       "      <th>2023-01-01</th>\n",
       "      <td>526369</td>\n",
       "    </tr>\n",
       "    <tr>\n",
       "      <th>2023-01-02</th>\n",
       "      <td>526503</td>\n",
       "    </tr>\n",
       "    <tr>\n",
       "      <th>2023-01-03</th>\n",
       "      <td>526646</td>\n",
       "    </tr>\n",
       "    <tr>\n",
       "      <th>2023-01-04</th>\n",
       "      <td>526781</td>\n",
       "    </tr>\n",
       "    <tr>\n",
       "      <th>2023-01-05</th>\n",
       "      <td>526935</td>\n",
       "    </tr>\n",
       "  </tbody>\n",
       "</table>\n",
       "<p>1922 rows × 1 columns</p>\n",
       "</div>"
      ],
      "text/plain": [
       "            numAddresses\n",
       "Date                    \n",
       "2017-10-02          3199\n",
       "2017-10-03          5972\n",
       "2017-10-04          6947\n",
       "2017-10-05          7602\n",
       "2017-10-06          8124\n",
       "...                  ...\n",
       "2023-01-01        526369\n",
       "2023-01-02        526503\n",
       "2023-01-03        526646\n",
       "2023-01-04        526781\n",
       "2023-01-05        526935\n",
       "\n",
       "[1922 rows x 1 columns]"
      ]
     },
     "execution_count": 47,
     "metadata": {},
     "output_type": "execute_result"
    }
   ],
   "source": [
    "addressData2"
   ]
  },
  {
   "cell_type": "code",
   "execution_count": 48,
   "id": "55444b72",
   "metadata": {},
   "outputs": [
    {
     "data": {
      "text/plain": [
       "<AxesSubplot:xlabel='Date'>"
      ]
     },
     "execution_count": 48,
     "metadata": {},
     "output_type": "execute_result"
    },
    {
     "data": {
      "image/png": "[encoded data removed]",
      "text/plain": [
       "<Figure size 432x288 with 1 Axes>"
      ]
     },
     "metadata": {
      "needs_background": "light"
     },
     "output_type": "display_data"
    }
   ],
   "source": [
    "# plot address data\n",
    "addressData2.plot()"
   ]
  },
  {
   "cell_type": "code",
   "execution_count": 49,
   "id": "429352b6",
   "metadata": {},
   "outputs": [],
   "source": [
    "\"\"\"\n",
    "make a request to get % Circulating Supply // ENJ\n",
    "\"\"\"\n",
    "\n",
    "res6 = requests.get(\n",
    "    'https://api.glassnode.com/v1/metrics/supply/current',\n",
    "    params={'a': 'ENJ', 'api_key': API_KEY}\n",
    ")"
   ]
  },
  {
   "cell_type": "code",
   "execution_count": 50,
   "id": "d09257da",
   "metadata": {},
   "outputs": [],
   "source": [
    "# convert to pandas dataframe\n",
    "supplyData2 = pd.read_json(res6.text, convert_dates=['t'])"
   ]
  },
  {
   "cell_type": "code",
   "execution_count": 51,
   "id": "86a3527d",
   "metadata": {},
   "outputs": [],
   "source": [
    "# rename columns\n",
    "supplyData2 = supplyData2.rename(columns={'t': 'Date', 'v': 'LongTermSupply'})"
   ]
  },
  {
   "cell_type": "code",
   "execution_count": 52,
   "id": "a12a9882",
   "metadata": {},
   "outputs": [],
   "source": [
    "# set index to date\n",
    "supplyData2 = supplyData2.set_index('Date')"
   ]
  },
  {
   "cell_type": "code",
   "execution_count": 53,
   "id": "2b37a98c",
   "metadata": {},
   "outputs": [
    {
     "data": {
      "text/plain": [
       "<AxesSubplot:xlabel='Date'>"
      ]
     },
     "execution_count": 53,
     "metadata": {},
     "output_type": "execute_result"
    },
    {
     "data": {
      "image/png": "[encoded data removed]",
      "text/plain": [
       "<Figure size 432x288 with 1 Axes>"
      ]
     },
     "metadata": {
      "needs_background": "light"
     },
     "output_type": "display_data"
    }
   ],
   "source": [
    "# plot address data\n",
    "supplyData2.plot()"
   ]
  },
  {
   "cell_type": "markdown",
   "id": "001cc779",
   "metadata": {},
   "source": [
    "### Pi Cycle Top Indicator - SAND (The Sandbox)"
   ]
  },
  {
   "cell_type": "code",
   "execution_count": 54,
   "id": "b4a70fcb",
   "metadata": {},
   "outputs": [],
   "source": [
    "\"\"\"\n",
    "make a request to Pi Cycle Top Indicator\n",
    "\"\"\"\n",
    "\n",
    "res7 = requests.get(\n",
    "    'https://api.glassnode.com/v1/metrics/indicators/pi_cycle_top',\n",
    "    params={'a': 'SAND', 'api_key': API_KEY}\n",
    ")"
   ]
  },
  {
   "cell_type": "code",
   "execution_count": 55,
   "id": "e0fe536b",
   "metadata": {},
   "outputs": [],
   "source": [
    "# convert to pandas dataframe\n",
    "piCycleTop = pd.read_json(res7.text, convert_dates=['t'])"
   ]
  },
  {
   "cell_type": "code",
   "execution_count": 56,
   "id": "74f307f3",
   "metadata": {},
   "outputs": [],
   "source": [
    "# rename columns\n",
    "piCycleTop = piCycleTop.rename(columns={'t': 'Date', 'o': 'movAvgData'})"
   ]
  },
  {
   "cell_type": "code",
   "execution_count": 57,
   "id": "8b090c38",
   "metadata": {},
   "outputs": [],
   "source": [
    "# set index to date\n",
    "piCycleTop = piCycleTop.set_index('Date')"
   ]
  },
  {
   "cell_type": "code",
   "execution_count": 58,
   "id": "1fbda503",
   "metadata": {},
   "outputs": [],
   "source": [
    "# turn dictionaries into individual series\n",
    "piCycleTop = piCycleTop.movAvgData.apply(pd.Series)"
   ]
  },
  {
   "cell_type": "code",
   "execution_count": 59,
   "id": "36761e25",
   "metadata": {},
   "outputs": [
    {
     "data": {
      "text/plain": [
       "<AxesSubplot:xlabel='Date'>"
      ]
     },
     "execution_count": 59,
     "metadata": {},
     "output_type": "execute_result"
    },
    {
     "data": {
      "image/png": "[encoded data removed]",
      "text/plain": [
       "<Figure size 432x288 with 1 Axes>"
      ]
     },
     "metadata": {
      "needs_background": "light"
     },
     "output_type": "display_data"
    }
   ],
   "source": [
    "# plot address data\n",
    "piCycleTop.plot()"
   ]
  },
  {
   "cell_type": "markdown",
   "id": "a42a6e51",
   "metadata": {},
   "source": [
    "### Pi Cycle Top\n",
    "\n",
    "The Pi Cycle Top was also created by Philip Swift, and works by comparing the momentum of two moving average indicators. It compares the 111 SMA (blue) and 2 * 350 SMA (purple) of Bitcoin’s Price. These two moving averages were selected as 350 / 111 = 3.153; An approximation of the Pi number.\n",
    "\n",
    "1. When the 111 SMA (blue) meets the 2 * 350 SMA (purple), it is an indication of an overheated market. The mid timeframe momentum reference crosses above the long timeframe momentum reference.\n",
    "2. When the 111 SMA (blue) falls beneath the 2 * 350 SMA (purple), it is an indication of a deflating market that is cooling of after a period of overheating."
   ]
  },
  {
   "cell_type": "markdown",
   "id": "97f42971",
   "metadata": {},
   "source": [
    "### Pi Cycle Top Indicator - Enjin Coin"
   ]
  },
  {
   "cell_type": "code",
   "execution_count": 60,
   "id": "02e7992f",
   "metadata": {},
   "outputs": [],
   "source": [
    "\"\"\"\n",
    "make a request to Pi Cycle Top Indicator\n",
    "\"\"\"\n",
    "\n",
    "res8 = requests.get(\n",
    "    'https://api.glassnode.com/v1/metrics/indicators/pi_cycle_top',\n",
    "    params={'a': 'ENJ', 'api_key': API_KEY}\n",
    ")"
   ]
  },
  {
   "cell_type": "code",
   "execution_count": 61,
   "id": "028eca22",
   "metadata": {},
   "outputs": [],
   "source": [
    "# convert to pandas dataframe\n",
    "piCycleTop_2 = pd.read_json(res8.text, convert_dates=['t'])"
   ]
  },
  {
   "cell_type": "code",
   "execution_count": 62,
   "id": "b8186fc2",
   "metadata": {},
   "outputs": [],
   "source": [
    "# rename columns\n",
    "piCycleTop_2 = piCycleTop_2.rename(columns={'t': 'Date', 'o': 'movAvgData'})"
   ]
  },
  {
   "cell_type": "code",
   "execution_count": 63,
   "id": "4e1b8df0",
   "metadata": {},
   "outputs": [],
   "source": [
    "# set index to date\n",
    "piCycleTop_2 = piCycleTop_2.set_index('Date')"
   ]
  },
  {
   "cell_type": "code",
   "execution_count": 64,
   "id": "29d71e82",
   "metadata": {},
   "outputs": [],
   "source": [
    "# turn dictionaries into individual series\n",
    "piCycleTop_2 = piCycleTop_2.movAvgData.apply(pd.Series)"
   ]
  },
  {
   "cell_type": "code",
   "execution_count": 65,
   "id": "3243897d",
   "metadata": {},
   "outputs": [
    {
     "data": {
      "text/plain": [
       "<AxesSubplot:xlabel='Date'>"
      ]
     },
     "execution_count": 65,
     "metadata": {},
     "output_type": "execute_result"
    },
    {
     "data": {
      "image/png": "[encoded data removed]",
      "text/plain": [
       "<Figure size 432x288 with 1 Axes>"
      ]
     },
     "metadata": {
      "needs_background": "light"
     },
     "output_type": "display_data"
    }
   ],
   "source": [
    "# plot address data\n",
    "piCycleTop_2.plot()"
   ]
  },
  {
   "cell_type": "code",
   "execution_count": null,
   "id": "7d423286",
   "metadata": {},
   "outputs": [],
   "source": []
  }
 ],
 "metadata": {
  "kernelspec": {
   "display_name": "Python 3 (ipykernel)",
   "language": "python",
   "name": "python3"
  },
  "language_info": {
   "codemirror_mode": {
    "name": "ipython",
    "version": 3
   },
   "file_extension": ".py",
   "mimetype": "text/x-python",
   "name": "python",
   "nbconvert_exporter": "python",
   "pygments_lexer": "ipython3",
   "version": "3.9.12"
  }
 },
 "nbformat": 4,
 "nbformat_minor": 5
}
