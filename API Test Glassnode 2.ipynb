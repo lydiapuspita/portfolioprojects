{
 "cells": [
  {
   "cell_type": "code",
   "execution_count": 3,
   "id": "32815a10",
   "metadata": {},
   "outputs": [
    {
     "name": "stdout",
     "output_type": "stream",
     "text": [
      "Index(['path', 'tier', 'assets', 'currencies', 'resolutions', 'formats'], dtype='object')\n"
     ]
    }
   ],
   "source": [
    "Glassnode API | Python\n",
    "\n",
    "Tutor : Adam Getbags\n",
    "\n",
    "import json\n",
    "import requests\n",
    "import pandas as pd\n",
    "import plotly.graph_objects as go\n",
    "from plotly.offline import plot\n",
    "\n",
    "\n",
    "# insert your API key here\n",
    "API_KEY = '2It9FiAZB1mHp7VcjmmI9XzjPp4'\n",
    "\n",
    "\"\"\"\n",
    "make API request to get all endpoints\n",
    "\"\"\"\n",
    "res = requests.get(\n",
    "    'https://api.glassnode.com/v2/metrics/endpoints',\n",
    "    params={'api_key': API_KEY}\n",
    ")\n",
    "\n",
    "# convert to pandas dataframe\n",
    "endpointData = pd.read_json(res.text)\n",
    "\n",
    "# review endpoint data\n",
    "print(endpointData.columns)"
   ]
  },
  {
   "cell_type": "code",
   "execution_count": 4,
   "id": "083e058a",
   "metadata": {},
   "outputs": [
    {
     "name": "stdout",
     "output_type": "stream",
     "text": [
      "0       /v1/metrics/addresses/sending_to_exchanges_count\n",
      "1      /v1/metrics/addresses/receiving_from_exchanges...\n",
      "2                            /v1/metrics/addresses/count\n",
      "3                    /v1/metrics/addresses/sending_count\n",
      "4                  /v1/metrics/addresses/receiving_count\n",
      "                             ...                        \n",
      "497        /v1/metrics/institutions/qbtc_premium_percent\n",
      "498                /v1/metrics/institutions/qbtc_aum_sum\n",
      "499       /v1/metrics/institutions/qbtc_market_price_usd\n",
      "500           /v1/metrics/institutions/qbtc_holdings_sum\n",
      "501              /v1/metrics/institutions/qbtc_flows_sum\n",
      "Name: path, Length: 502, dtype: object\n"
     ]
    }
   ],
   "source": [
    "# view all endpoint URLs\n",
    "print(endpointData.path)"
   ]
  },
  {
   "cell_type": "code",
   "execution_count": 5,
   "id": "a3d31299",
   "metadata": {},
   "outputs": [
    {
     "name": "stdout",
     "output_type": "stream",
     "text": [
      "/v1/metrics/addresses/sending_to_exchanges_count\n"
     ]
    }
   ],
   "source": [
    "# view specific endpoint\n",
    "print(endpointData.path[0])"
   ]
  },
  {
   "cell_type": "code",
   "execution_count": 6,
   "id": "72e7b453",
   "metadata": {},
   "outputs": [
    {
     "name": "stdout",
     "output_type": "stream",
     "text": [
      "3\n"
     ]
    }
   ],
   "source": [
    "# view specific endpoint tier\n",
    "print(endpointData.tier[0])"
   ]
  },
  {
   "cell_type": "code",
   "execution_count": 7,
   "id": "28e7964f",
   "metadata": {},
   "outputs": [
    {
     "name": "stdout",
     "output_type": "stream",
     "text": [
      "2                            /v1/metrics/addresses/count\n",
      "3                    /v1/metrics/addresses/sending_count\n",
      "4                  /v1/metrics/addresses/receiving_count\n",
      "5                     /v1/metrics/addresses/active_count\n",
      "6               /v1/metrics/addresses/new_non_zero_count\n",
      "                             ...                        \n",
      "492                    /v1/metrics/signals/altcoin_index\n",
      "493                   /v1/metrics/signals/btc_risk_index\n",
      "494              /v1/metrics/signals/mcap_returns_vs_btc\n",
      "495    /v1/metrics/signals/l1_native_tokens_returns_v...\n",
      "496         /v1/metrics/signals/ecosystem_momentum_index\n",
      "Name: path, Length: 73, dtype: object\n"
     ]
    }
   ],
   "source": [
    "# all endpoints for specific tier \n",
    "print(endpointData.path[endpointData.tier == 1])"
   ]
  },
  {
   "cell_type": "code",
   "execution_count": 8,
   "id": "2dcb69e1",
   "metadata": {},
   "outputs": [
    {
     "name": "stdout",
     "output_type": "stream",
     "text": [
      "2                         /v1/metrics/addresses/count\n",
      "3                 /v1/metrics/addresses/sending_count\n",
      "4               /v1/metrics/addresses/receiving_count\n",
      "5                  /v1/metrics/addresses/active_count\n",
      "6            /v1/metrics/addresses/new_non_zero_count\n",
      "                            ...                      \n",
      "497     /v1/metrics/institutions/qbtc_premium_percent\n",
      "498             /v1/metrics/institutions/qbtc_aum_sum\n",
      "499    /v1/metrics/institutions/qbtc_market_price_usd\n",
      "500        /v1/metrics/institutions/qbtc_holdings_sum\n",
      "501           /v1/metrics/institutions/qbtc_flows_sum\n",
      "Name: path, Length: 336, dtype: object\n"
     ]
    }
   ],
   "source": [
    "# all endpoints for specific tier AND lower\n",
    "print(endpointData.path[endpointData.tier <= 2])"
   ]
  },
  {
   "cell_type": "code",
   "execution_count": 9,
   "id": "9bfc3ac8",
   "metadata": {},
   "outputs": [
    {
     "name": "stdout",
     "output_type": "stream",
     "text": [
      "                                  path  tier  \\\n",
      "355  /v1/metrics/market/price_usd_ohlc     1   \n",
      "\n",
      "                                                assets currencies resolutions  \\\n",
      "355  [{'symbol': 'BTC', 'name': 'Bitcoin', 'tags': ...   [NATIVE]   [1h, 24h]   \n",
      "\n",
      "         formats  \n",
      "355  [JSON, CSV]  \n"
     ]
    }
   ],
   "source": [
    "# find index/row number of endpoint by path\n",
    "endpointRow = endpointData[\n",
    "                endpointData.path == '/v1/metrics/market/price_usd_ohlc']\n",
    "print(endpointRow)"
   ]
  },
  {
   "cell_type": "code",
   "execution_count": 10,
   "id": "42858a5a",
   "metadata": {},
   "outputs": [
    {
     "name": "stdout",
     "output_type": "stream",
     "text": [
      "    symbol             name                    tags\n",
      "0      BTC          Bitcoin                   [top]\n",
      "1      ETH         Ethereum                   [top]\n",
      "2      LTC         Litecoin                   [top]\n",
      "3     TUSD          TrueUSD     [erc20, stablecoin]\n",
      "4    stETH  Lido Staked ETH                 [erc20]\n",
      "..     ...              ...                     ...\n",
      "124  ARMOR            ARMOR           [erc20, defi]\n",
      "125    DHT       dHedge DAO           [erc20, defi]\n",
      "126  Nsure    Nsure Network           [erc20, defi]\n",
      "127    NDX  Indexed Finance           [erc20, defi]\n",
      "128    DDX        DerivaDAO  [erc20, exchangeToken]\n",
      "\n",
      "[129 rows x 3 columns]\n"
     ]
    }
   ],
   "source": [
    "# supported assets by endpoint // in a DataFrame\n",
    "print(pd.DataFrame(endpointData.assets[endpointRow.index[0]]))"
   ]
  },
  {
   "cell_type": "code",
   "execution_count": 11,
   "id": "f9b44cfc",
   "metadata": {},
   "outputs": [
    {
     "name": "stdout",
     "output_type": "stream",
     "text": [
      "['1h', '24h']\n"
     ]
    }
   ],
   "source": [
    "# view data resolution, granularity\n",
    "print(endpointData.resolutions[endpointRow.index[0]])"
   ]
  },
  {
   "cell_type": "code",
   "execution_count": 12,
   "id": "d4b23864",
   "metadata": {},
   "outputs": [],
   "source": [
    "\"\"\"\n",
    "make API request to get candlestick data\n",
    "\"\"\"\n",
    "res = requests.get(\n",
    "    'https://api.glassnode.com/v1/metrics/market/price_usd_ohlc',\n",
    "    params={'a': 'BTC', 'api_key': API_KEY, 'i': '24h'}\n",
    ")"
   ]
  },
  {
   "cell_type": "code",
   "execution_count": 13,
   "id": "764eefc6",
   "metadata": {},
   "outputs": [],
   "source": [
    "res = requests.get(\n",
    "    'https://api.glassnode.com/v1/metrics/market/price_usd_ohlc',\n",
    "    params={'a': 'BTC', 'api_key': API_KEY, 'i': '1h'}\n",
    ")"
   ]
  },
  {
   "cell_type": "code",
   "execution_count": 14,
   "id": "451b38df",
   "metadata": {},
   "outputs": [],
   "source": [
    "# convert to pandas dataframe\n",
    "candleData = pd.read_json(res.text, convert_dates=['t'])"
   ]
  },
  {
   "cell_type": "code",
   "execution_count": 16,
   "id": "de0e4662",
   "metadata": {},
   "outputs": [
    {
     "data": {
      "text/html": [
       "<div>\n",
       "<style scoped>\n",
       "    .dataframe tbody tr th:only-of-type {\n",
       "        vertical-align: middle;\n",
       "    }\n",
       "\n",
       "    .dataframe tbody tr th {\n",
       "        vertical-align: top;\n",
       "    }\n",
       "\n",
       "    .dataframe thead th {\n",
       "        text-align: right;\n",
       "    }\n",
       "</style>\n",
       "<table border=\"1\" class=\"dataframe\">\n",
       "  <thead>\n",
       "    <tr style=\"text-align: right;\">\n",
       "      <th></th>\n",
       "      <th>Date</th>\n",
       "      <th>Candles</th>\n",
       "    </tr>\n",
       "  </thead>\n",
       "  <tbody>\n",
       "    <tr>\n",
       "      <th>0</th>\n",
       "      <td>2010-07-17 23:00:00</td>\n",
       "      <td>{'c': 0.049510000000000005, 'h': 0.04951000000...</td>\n",
       "    </tr>\n",
       "    <tr>\n",
       "      <th>1</th>\n",
       "      <td>2010-07-18 00:00:00</td>\n",
       "      <td>{'c': None, 'h': None, 'l': None, 'o': None}</td>\n",
       "    </tr>\n",
       "    <tr>\n",
       "      <th>2</th>\n",
       "      <td>2010-07-18 01:00:00</td>\n",
       "      <td>{'c': None, 'h': None, 'l': None, 'o': None}</td>\n",
       "    </tr>\n",
       "    <tr>\n",
       "      <th>3</th>\n",
       "      <td>2010-07-18 02:00:00</td>\n",
       "      <td>{'c': None, 'h': None, 'l': None, 'o': None}</td>\n",
       "    </tr>\n",
       "    <tr>\n",
       "      <th>4</th>\n",
       "      <td>2010-07-18 03:00:00</td>\n",
       "      <td>{'c': 0.059410000000000004, 'h': 0.05941000000...</td>\n",
       "    </tr>\n",
       "    <tr>\n",
       "      <th>...</th>\n",
       "      <td>...</td>\n",
       "      <td>...</td>\n",
       "    </tr>\n",
       "    <tr>\n",
       "      <th>108769</th>\n",
       "      <td>2022-12-14 00:00:00</td>\n",
       "      <td>{'c': 17796.33046740403, 'h': 17817.0094761170...</td>\n",
       "    </tr>\n",
       "    <tr>\n",
       "      <th>108770</th>\n",
       "      <td>2022-12-14 01:00:00</td>\n",
       "      <td>{'c': 17783.295832929907, 'h': 17809.881734934...</td>\n",
       "    </tr>\n",
       "    <tr>\n",
       "      <th>108771</th>\n",
       "      <td>2022-12-14 02:00:00</td>\n",
       "      <td>{'c': 17775.933631992448, 'h': 17787.211415957...</td>\n",
       "    </tr>\n",
       "    <tr>\n",
       "      <th>108772</th>\n",
       "      <td>2022-12-14 03:00:00</td>\n",
       "      <td>{'c': 17804.699159903983, 'h': 17828.659237197...</td>\n",
       "    </tr>\n",
       "    <tr>\n",
       "      <th>108773</th>\n",
       "      <td>2022-12-14 04:00:00</td>\n",
       "      <td>{'c': 17788.350476356136, 'h': 17807.144742994...</td>\n",
       "    </tr>\n",
       "  </tbody>\n",
       "</table>\n",
       "<p>108774 rows × 2 columns</p>\n",
       "</div>"
      ],
      "text/plain": [
       "                      Date                                            Candles\n",
       "0      2010-07-17 23:00:00  {'c': 0.049510000000000005, 'h': 0.04951000000...\n",
       "1      2010-07-18 00:00:00       {'c': None, 'h': None, 'l': None, 'o': None}\n",
       "2      2010-07-18 01:00:00       {'c': None, 'h': None, 'l': None, 'o': None}\n",
       "3      2010-07-18 02:00:00       {'c': None, 'h': None, 'l': None, 'o': None}\n",
       "4      2010-07-18 03:00:00  {'c': 0.059410000000000004, 'h': 0.05941000000...\n",
       "...                    ...                                                ...\n",
       "108769 2022-12-14 00:00:00  {'c': 17796.33046740403, 'h': 17817.0094761170...\n",
       "108770 2022-12-14 01:00:00  {'c': 17783.295832929907, 'h': 17809.881734934...\n",
       "108771 2022-12-14 02:00:00  {'c': 17775.933631992448, 'h': 17787.211415957...\n",
       "108772 2022-12-14 03:00:00  {'c': 17804.699159903983, 'h': 17828.659237197...\n",
       "108773 2022-12-14 04:00:00  {'c': 17788.350476356136, 'h': 17807.144742994...\n",
       "\n",
       "[108774 rows x 2 columns]"
      ]
     },
     "execution_count": 16,
     "metadata": {},
     "output_type": "execute_result"
    }
   ],
   "source": [
    "# rename columns\n",
    "candleData = candleData.rename(columns={'t': 'Date', 'o': 'Candles'})\n",
    "\n",
    "candleData"
   ]
  },
  {
   "cell_type": "code",
   "execution_count": 17,
   "id": "aeb385af",
   "metadata": {},
   "outputs": [
    {
     "data": {
      "text/html": [
       "<div>\n",
       "<style scoped>\n",
       "    .dataframe tbody tr th:only-of-type {\n",
       "        vertical-align: middle;\n",
       "    }\n",
       "\n",
       "    .dataframe tbody tr th {\n",
       "        vertical-align: top;\n",
       "    }\n",
       "\n",
       "    .dataframe thead th {\n",
       "        text-align: right;\n",
       "    }\n",
       "</style>\n",
       "<table border=\"1\" class=\"dataframe\">\n",
       "  <thead>\n",
       "    <tr style=\"text-align: right;\">\n",
       "      <th></th>\n",
       "      <th>Candles</th>\n",
       "    </tr>\n",
       "    <tr>\n",
       "      <th>Date</th>\n",
       "      <th></th>\n",
       "    </tr>\n",
       "  </thead>\n",
       "  <tbody>\n",
       "    <tr>\n",
       "      <th>2010-07-17 23:00:00</th>\n",
       "      <td>{'c': 0.049510000000000005, 'h': 0.04951000000...</td>\n",
       "    </tr>\n",
       "    <tr>\n",
       "      <th>2010-07-18 00:00:00</th>\n",
       "      <td>{'c': None, 'h': None, 'l': None, 'o': None}</td>\n",
       "    </tr>\n",
       "    <tr>\n",
       "      <th>2010-07-18 01:00:00</th>\n",
       "      <td>{'c': None, 'h': None, 'l': None, 'o': None}</td>\n",
       "    </tr>\n",
       "    <tr>\n",
       "      <th>2010-07-18 02:00:00</th>\n",
       "      <td>{'c': None, 'h': None, 'l': None, 'o': None}</td>\n",
       "    </tr>\n",
       "    <tr>\n",
       "      <th>2010-07-18 03:00:00</th>\n",
       "      <td>{'c': 0.059410000000000004, 'h': 0.05941000000...</td>\n",
       "    </tr>\n",
       "    <tr>\n",
       "      <th>...</th>\n",
       "      <td>...</td>\n",
       "    </tr>\n",
       "    <tr>\n",
       "      <th>2022-12-14 00:00:00</th>\n",
       "      <td>{'c': 17796.33046740403, 'h': 17817.0094761170...</td>\n",
       "    </tr>\n",
       "    <tr>\n",
       "      <th>2022-12-14 01:00:00</th>\n",
       "      <td>{'c': 17783.295832929907, 'h': 17809.881734934...</td>\n",
       "    </tr>\n",
       "    <tr>\n",
       "      <th>2022-12-14 02:00:00</th>\n",
       "      <td>{'c': 17775.933631992448, 'h': 17787.211415957...</td>\n",
       "    </tr>\n",
       "    <tr>\n",
       "      <th>2022-12-14 03:00:00</th>\n",
       "      <td>{'c': 17804.699159903983, 'h': 17828.659237197...</td>\n",
       "    </tr>\n",
       "    <tr>\n",
       "      <th>2022-12-14 04:00:00</th>\n",
       "      <td>{'c': 17788.350476356136, 'h': 17807.144742994...</td>\n",
       "    </tr>\n",
       "  </tbody>\n",
       "</table>\n",
       "<p>108774 rows × 1 columns</p>\n",
       "</div>"
      ],
      "text/plain": [
       "                                                               Candles\n",
       "Date                                                                  \n",
       "2010-07-17 23:00:00  {'c': 0.049510000000000005, 'h': 0.04951000000...\n",
       "2010-07-18 00:00:00       {'c': None, 'h': None, 'l': None, 'o': None}\n",
       "2010-07-18 01:00:00       {'c': None, 'h': None, 'l': None, 'o': None}\n",
       "2010-07-18 02:00:00       {'c': None, 'h': None, 'l': None, 'o': None}\n",
       "2010-07-18 03:00:00  {'c': 0.059410000000000004, 'h': 0.05941000000...\n",
       "...                                                                ...\n",
       "2022-12-14 00:00:00  {'c': 17796.33046740403, 'h': 17817.0094761170...\n",
       "2022-12-14 01:00:00  {'c': 17783.295832929907, 'h': 17809.881734934...\n",
       "2022-12-14 02:00:00  {'c': 17775.933631992448, 'h': 17787.211415957...\n",
       "2022-12-14 03:00:00  {'c': 17804.699159903983, 'h': 17828.659237197...\n",
       "2022-12-14 04:00:00  {'c': 17788.350476356136, 'h': 17807.144742994...\n",
       "\n",
       "[108774 rows x 1 columns]"
      ]
     },
     "execution_count": 17,
     "metadata": {},
     "output_type": "execute_result"
    }
   ],
   "source": [
    "# set index to date\n",
    "candleData = candleData.set_index('Date')\n",
    "\n",
    "candleData"
   ]
  },
  {
   "cell_type": "code",
   "execution_count": 18,
   "id": "eb2ae4f6",
   "metadata": {},
   "outputs": [],
   "source": [
    "# turn candle dictionaries into individual series\n",
    "candleData = candleData.Candles.apply(pd.Series)"
   ]
  },
  {
   "cell_type": "code",
   "execution_count": 19,
   "id": "9b88d004",
   "metadata": {},
   "outputs": [],
   "source": [
    "# rename columns\n",
    "candleData = candleData.rename(columns={'c': 'Close', 'h': 'High', \n",
    "                                        'l': 'Low', 'o': 'Open'})"
   ]
  },
  {
   "cell_type": "code",
   "execution_count": 20,
   "id": "895e41eb",
   "metadata": {},
   "outputs": [
    {
     "data": {
      "text/html": [
       "<div>\n",
       "<style scoped>\n",
       "    .dataframe tbody tr th:only-of-type {\n",
       "        vertical-align: middle;\n",
       "    }\n",
       "\n",
       "    .dataframe tbody tr th {\n",
       "        vertical-align: top;\n",
       "    }\n",
       "\n",
       "    .dataframe thead th {\n",
       "        text-align: right;\n",
       "    }\n",
       "</style>\n",
       "<table border=\"1\" class=\"dataframe\">\n",
       "  <thead>\n",
       "    <tr style=\"text-align: right;\">\n",
       "      <th></th>\n",
       "      <th>Close</th>\n",
       "      <th>High</th>\n",
       "      <th>Low</th>\n",
       "      <th>Open</th>\n",
       "    </tr>\n",
       "    <tr>\n",
       "      <th>Date</th>\n",
       "      <th></th>\n",
       "      <th></th>\n",
       "      <th></th>\n",
       "      <th></th>\n",
       "    </tr>\n",
       "  </thead>\n",
       "  <tbody>\n",
       "    <tr>\n",
       "      <th>2010-07-17 23:00:00</th>\n",
       "      <td>0.049510</td>\n",
       "      <td>0.049510</td>\n",
       "      <td>0.049510</td>\n",
       "      <td>0.049510</td>\n",
       "    </tr>\n",
       "    <tr>\n",
       "      <th>2010-07-18 00:00:00</th>\n",
       "      <td>NaN</td>\n",
       "      <td>NaN</td>\n",
       "      <td>NaN</td>\n",
       "      <td>NaN</td>\n",
       "    </tr>\n",
       "    <tr>\n",
       "      <th>2010-07-18 01:00:00</th>\n",
       "      <td>NaN</td>\n",
       "      <td>NaN</td>\n",
       "      <td>NaN</td>\n",
       "      <td>NaN</td>\n",
       "    </tr>\n",
       "    <tr>\n",
       "      <th>2010-07-18 02:00:00</th>\n",
       "      <td>NaN</td>\n",
       "      <td>NaN</td>\n",
       "      <td>NaN</td>\n",
       "      <td>NaN</td>\n",
       "    </tr>\n",
       "    <tr>\n",
       "      <th>2010-07-18 03:00:00</th>\n",
       "      <td>0.059410</td>\n",
       "      <td>0.059410</td>\n",
       "      <td>0.059410</td>\n",
       "      <td>0.059410</td>\n",
       "    </tr>\n",
       "    <tr>\n",
       "      <th>...</th>\n",
       "      <td>...</td>\n",
       "      <td>...</td>\n",
       "      <td>...</td>\n",
       "      <td>...</td>\n",
       "    </tr>\n",
       "    <tr>\n",
       "      <th>2022-12-14 00:00:00</th>\n",
       "      <td>17796.330467</td>\n",
       "      <td>17817.009476</td>\n",
       "      <td>17765.547430</td>\n",
       "      <td>17778.890661</td>\n",
       "    </tr>\n",
       "    <tr>\n",
       "      <th>2022-12-14 01:00:00</th>\n",
       "      <td>17783.295833</td>\n",
       "      <td>17809.881735</td>\n",
       "      <td>17783.295833</td>\n",
       "      <td>17797.241178</td>\n",
       "    </tr>\n",
       "    <tr>\n",
       "      <th>2022-12-14 02:00:00</th>\n",
       "      <td>17775.933632</td>\n",
       "      <td>17787.211416</td>\n",
       "      <td>17765.650353</td>\n",
       "      <td>17787.211416</td>\n",
       "    </tr>\n",
       "    <tr>\n",
       "      <th>2022-12-14 03:00:00</th>\n",
       "      <td>17804.699160</td>\n",
       "      <td>17828.659237</td>\n",
       "      <td>17793.430318</td>\n",
       "      <td>17793.430318</td>\n",
       "    </tr>\n",
       "    <tr>\n",
       "      <th>2022-12-14 04:00:00</th>\n",
       "      <td>17788.350476</td>\n",
       "      <td>17807.144743</td>\n",
       "      <td>17788.350476</td>\n",
       "      <td>17807.144743</td>\n",
       "    </tr>\n",
       "  </tbody>\n",
       "</table>\n",
       "<p>108774 rows × 4 columns</p>\n",
       "</div>"
      ],
      "text/plain": [
       "                            Close          High           Low          Open\n",
       "Date                                                                       \n",
       "2010-07-17 23:00:00      0.049510      0.049510      0.049510      0.049510\n",
       "2010-07-18 00:00:00           NaN           NaN           NaN           NaN\n",
       "2010-07-18 01:00:00           NaN           NaN           NaN           NaN\n",
       "2010-07-18 02:00:00           NaN           NaN           NaN           NaN\n",
       "2010-07-18 03:00:00      0.059410      0.059410      0.059410      0.059410\n",
       "...                           ...           ...           ...           ...\n",
       "2022-12-14 00:00:00  17796.330467  17817.009476  17765.547430  17778.890661\n",
       "2022-12-14 01:00:00  17783.295833  17809.881735  17783.295833  17797.241178\n",
       "2022-12-14 02:00:00  17775.933632  17787.211416  17765.650353  17787.211416\n",
       "2022-12-14 03:00:00  17804.699160  17828.659237  17793.430318  17793.430318\n",
       "2022-12-14 04:00:00  17788.350476  17807.144743  17788.350476  17807.144743\n",
       "\n",
       "[108774 rows x 4 columns]"
      ]
     },
     "execution_count": 20,
     "metadata": {},
     "output_type": "execute_result"
    }
   ],
   "source": [
    "candleData"
   ]
  },
  {
   "cell_type": "code",
   "execution_count": 21,
   "id": "ed99aa86",
   "metadata": {},
   "outputs": [
    {
     "data": {
      "text/plain": [
       "'temp-plot.html'"
      ]
     },
     "execution_count": 21,
     "metadata": {},
     "output_type": "execute_result"
    }
   ],
   "source": [
    "# generate plotly figure\n",
    "fig = go.Figure(data=[go.Candlestick(x=candleData.index,\n",
    "                open=candleData['Open'],\n",
    "                high=candleData['High'],\n",
    "                low=candleData['Low'],\n",
    "                close=candleData['Close'])])\n",
    "\n",
    "# open figure in browser\n",
    "plot(fig, auto_open=True)"
   ]
  },
  {
   "cell_type": "code",
   "execution_count": 34,
   "id": "343744a7",
   "metadata": {},
   "outputs": [],
   "source": [
    "\"\"\"\n",
    "make request to get total addresses // BTC\n",
    "\"\"\"\n",
    "res = requests.get(\n",
    "    'https://api.glassnode.com/v1/metrics/addresses/count',\n",
    "    params={'a': 'BTC', 'api_key': API_KEY}\n",
    ")"
   ]
  },
  {
   "cell_type": "code",
   "execution_count": 35,
   "id": "1c901d58",
   "metadata": {},
   "outputs": [],
   "source": [
    "# convert to pandas dataframe\n",
    "addressData = pd.read_json(res.text, convert_dates=['t'])"
   ]
  },
  {
   "cell_type": "code",
   "execution_count": 36,
   "id": "d406f771",
   "metadata": {},
   "outputs": [],
   "source": [
    "# rename columns\n",
    "addressData = addressData.rename(columns={'t': 'Date', 'v': 'numAddresses'})"
   ]
  },
  {
   "cell_type": "code",
   "execution_count": 37,
   "id": "e1d25828",
   "metadata": {},
   "outputs": [],
   "source": [
    "# set index to date\n",
    "addressData = addressData.set_index('Date')"
   ]
  },
  {
   "cell_type": "code",
   "execution_count": 38,
   "id": "0e12fb0e",
   "metadata": {},
   "outputs": [
    {
     "data": {
      "text/html": [
       "<div>\n",
       "<style scoped>\n",
       "    .dataframe tbody tr th:only-of-type {\n",
       "        vertical-align: middle;\n",
       "    }\n",
       "\n",
       "    .dataframe tbody tr th {\n",
       "        vertical-align: top;\n",
       "    }\n",
       "\n",
       "    .dataframe thead th {\n",
       "        text-align: right;\n",
       "    }\n",
       "</style>\n",
       "<table border=\"1\" class=\"dataframe\">\n",
       "  <thead>\n",
       "    <tr style=\"text-align: right;\">\n",
       "      <th></th>\n",
       "      <th>numAddresses</th>\n",
       "    </tr>\n",
       "    <tr>\n",
       "      <th>Date</th>\n",
       "      <th></th>\n",
       "    </tr>\n",
       "  </thead>\n",
       "  <tbody>\n",
       "    <tr>\n",
       "      <th>2009-01-03</th>\n",
       "      <td>1</td>\n",
       "    </tr>\n",
       "    <tr>\n",
       "      <th>2009-01-04</th>\n",
       "      <td>1</td>\n",
       "    </tr>\n",
       "    <tr>\n",
       "      <th>2009-01-05</th>\n",
       "      <td>1</td>\n",
       "    </tr>\n",
       "    <tr>\n",
       "      <th>2009-01-06</th>\n",
       "      <td>1</td>\n",
       "    </tr>\n",
       "    <tr>\n",
       "      <th>2009-01-07</th>\n",
       "      <td>1</td>\n",
       "    </tr>\n",
       "    <tr>\n",
       "      <th>...</th>\n",
       "      <td>...</td>\n",
       "    </tr>\n",
       "    <tr>\n",
       "      <th>2022-12-09</th>\n",
       "      <td>1061380122</td>\n",
       "    </tr>\n",
       "    <tr>\n",
       "      <th>2022-12-10</th>\n",
       "      <td>1061785329</td>\n",
       "    </tr>\n",
       "    <tr>\n",
       "      <th>2022-12-11</th>\n",
       "      <td>1062168652</td>\n",
       "    </tr>\n",
       "    <tr>\n",
       "      <th>2022-12-12</th>\n",
       "      <td>1062583238</td>\n",
       "    </tr>\n",
       "    <tr>\n",
       "      <th>2022-12-13</th>\n",
       "      <td>1063052834</td>\n",
       "    </tr>\n",
       "  </tbody>\n",
       "</table>\n",
       "<p>5093 rows × 1 columns</p>\n",
       "</div>"
      ],
      "text/plain": [
       "            numAddresses\n",
       "Date                    \n",
       "2009-01-03             1\n",
       "2009-01-04             1\n",
       "2009-01-05             1\n",
       "2009-01-06             1\n",
       "2009-01-07             1\n",
       "...                  ...\n",
       "2022-12-09    1061380122\n",
       "2022-12-10    1061785329\n",
       "2022-12-11    1062168652\n",
       "2022-12-12    1062583238\n",
       "2022-12-13    1063052834\n",
       "\n",
       "[5093 rows x 1 columns]"
      ]
     },
     "execution_count": 38,
     "metadata": {},
     "output_type": "execute_result"
    }
   ],
   "source": [
    "addressData"
   ]
  },
  {
   "cell_type": "code",
   "execution_count": 39,
   "id": "76fad9d1",
   "metadata": {},
   "outputs": [
    {
     "data": {
      "text/plain": [
       "<AxesSubplot:xlabel='Date'>"
      ]
     },
     "execution_count": 39,
     "metadata": {},
     "output_type": "execute_result"
    },
    {
     "data": {
      "image/png": "[encoded data removed]",
      "text/plain": [
       "<Figure size 432x288 with 1 Axes>"
      ]
     },
     "metadata": {
      "needs_background": "light"
     },
     "output_type": "display_data"
    }
   ],
   "source": [
    "# plot address data\n",
    "addressData.plot()"
   ]
  },
  {
   "cell_type": "code",
   "execution_count": 40,
   "id": "cd2a7c3f",
   "metadata": {},
   "outputs": [],
   "source": [
    "# make request to get total addresses // ETH\n",
    "res2 = requests.get(\n",
    "    'https://api.glassnode.com/v1/metrics/addresses/count',\n",
    "    params={'a': 'ETH', 'api_key': API_KEY}\n",
    ")"
   ]
  },
  {
   "cell_type": "code",
   "execution_count": 41,
   "id": "110333a0",
   "metadata": {},
   "outputs": [],
   "source": [
    "# convert to pandas dataframe\n",
    "addressData2 = pd.read_json(res2.text, convert_dates=['t'])"
   ]
  },
  {
   "cell_type": "code",
   "execution_count": 42,
   "id": "59ba46ca",
   "metadata": {},
   "outputs": [],
   "source": [
    "# rename columns\n",
    "addressData2 = addressData2.rename(columns={'t': 'Date', 'v': 'numAddresses'})"
   ]
  },
  {
   "cell_type": "code",
   "execution_count": 43,
   "id": "ee0ae556",
   "metadata": {},
   "outputs": [],
   "source": [
    "# set index to date\n",
    "addressData2 = addressData2.set_index('Date')"
   ]
  },
  {
   "cell_type": "code",
   "execution_count": 44,
   "id": "33222f35",
   "metadata": {},
   "outputs": [
    {
     "data": {
      "text/html": [
       "<div>\n",
       "<style scoped>\n",
       "    .dataframe tbody tr th:only-of-type {\n",
       "        vertical-align: middle;\n",
       "    }\n",
       "\n",
       "    .dataframe tbody tr th {\n",
       "        vertical-align: top;\n",
       "    }\n",
       "\n",
       "    .dataframe thead th {\n",
       "        text-align: right;\n",
       "    }\n",
       "</style>\n",
       "<table border=\"1\" class=\"dataframe\">\n",
       "  <thead>\n",
       "    <tr style=\"text-align: right;\">\n",
       "      <th></th>\n",
       "      <th>numAddresses</th>\n",
       "    </tr>\n",
       "    <tr>\n",
       "      <th>Date</th>\n",
       "      <th></th>\n",
       "    </tr>\n",
       "  </thead>\n",
       "  <tbody>\n",
       "    <tr>\n",
       "      <th>2015-07-30</th>\n",
       "      <td>9203</td>\n",
       "    </tr>\n",
       "    <tr>\n",
       "      <th>2015-07-31</th>\n",
       "      <td>9359</td>\n",
       "    </tr>\n",
       "    <tr>\n",
       "      <th>2015-08-01</th>\n",
       "      <td>9474</td>\n",
       "    </tr>\n",
       "    <tr>\n",
       "      <th>2015-08-02</th>\n",
       "      <td>9561</td>\n",
       "    </tr>\n",
       "    <tr>\n",
       "      <th>2015-08-03</th>\n",
       "      <td>9637</td>\n",
       "    </tr>\n",
       "    <tr>\n",
       "      <th>...</th>\n",
       "      <td>...</td>\n",
       "    </tr>\n",
       "    <tr>\n",
       "      <th>2022-12-09</th>\n",
       "      <td>167722667</td>\n",
       "    </tr>\n",
       "    <tr>\n",
       "      <th>2022-12-10</th>\n",
       "      <td>167850172</td>\n",
       "    </tr>\n",
       "    <tr>\n",
       "      <th>2022-12-11</th>\n",
       "      <td>167960529</td>\n",
       "    </tr>\n",
       "    <tr>\n",
       "      <th>2022-12-12</th>\n",
       "      <td>168050289</td>\n",
       "    </tr>\n",
       "    <tr>\n",
       "      <th>2022-12-13</th>\n",
       "      <td>168152918</td>\n",
       "    </tr>\n",
       "  </tbody>\n",
       "</table>\n",
       "<p>2694 rows × 1 columns</p>\n",
       "</div>"
      ],
      "text/plain": [
       "            numAddresses\n",
       "Date                    \n",
       "2015-07-30          9203\n",
       "2015-07-31          9359\n",
       "2015-08-01          9474\n",
       "2015-08-02          9561\n",
       "2015-08-03          9637\n",
       "...                  ...\n",
       "2022-12-09     167722667\n",
       "2022-12-10     167850172\n",
       "2022-12-11     167960529\n",
       "2022-12-12     168050289\n",
       "2022-12-13     168152918\n",
       "\n",
       "[2694 rows x 1 columns]"
      ]
     },
     "execution_count": 44,
     "metadata": {},
     "output_type": "execute_result"
    }
   ],
   "source": [
    "addressData2"
   ]
  },
  {
   "cell_type": "code",
   "execution_count": 45,
   "id": "55444b72",
   "metadata": {},
   "outputs": [
    {
     "data": {
      "text/plain": [
       "<AxesSubplot:xlabel='Date'>"
      ]
     },
     "execution_count": 45,
     "metadata": {},
     "output_type": "execute_result"
    },
    {
     "data": {
      "image/png": "[encoded data removed]",
      "text/plain": [
       "<Figure size 432x288 with 1 Axes>"
      ]
     },
     "metadata": {
      "needs_background": "light"
     },
     "output_type": "display_data"
    }
   ],
   "source": [
    "# plot address data\n",
    "addressData2.plot()"
   ]
  },
  {
   "cell_type": "code",
   "execution_count": 47,
   "id": "f4222a4d",
   "metadata": {},
   "outputs": [],
   "source": [
    "\"\"\"\n",
    "make a request to get Spent Output Profit Ratio // SOPR // BTC\n",
    "\"\"\"\n",
    "res3 = requests.get(\n",
    "    'https://api.glassnode.com/v1/metrics/indicators/sopr',\n",
    "    params={'a': 'BTC', 'api_key': API_KEY}\n",
    ")"
   ]
  },
  {
   "cell_type": "code",
   "execution_count": 48,
   "id": "0b35bddb",
   "metadata": {},
   "outputs": [],
   "source": [
    "# convert to pandas dataframe\n",
    "soprData = pd.read_json(res3.text, convert_dates=['t'])"
   ]
  },
  {
   "cell_type": "code",
   "execution_count": 49,
   "id": "4c0343d5",
   "metadata": {},
   "outputs": [],
   "source": [
    "# rename columns\n",
    "soprData = soprData.rename(columns={'t': 'Date', 'v': 'SOPR'})"
   ]
  },
  {
   "cell_type": "code",
   "execution_count": 50,
   "id": "8d511e77",
   "metadata": {},
   "outputs": [],
   "source": [
    "# set index to date\n",
    "soprData = soprData.set_index('Date')"
   ]
  },
  {
   "cell_type": "code",
   "execution_count": 51,
   "id": "9b238fae",
   "metadata": {},
   "outputs": [
    {
     "data": {
      "text/plain": [
       "<AxesSubplot:xlabel='Date'>"
      ]
     },
     "execution_count": 51,
     "metadata": {},
     "output_type": "execute_result"
    },
    {
     "data": {
      "image/png": "[encoded data removed]",
      "text/plain": [
       "<Figure size 432x288 with 1 Axes>"
      ]
     },
     "metadata": {
      "needs_background": "light"
     },
     "output_type": "display_data"
    }
   ],
   "source": [
    "# plot address data\n",
    "soprData.plot()"
   ]
  },
  {
   "cell_type": "code",
   "execution_count": 52,
   "id": "b68a84a7",
   "metadata": {},
   "outputs": [],
   "source": [
    "\"\"\"\n",
    "make a request to get Spent Output Profit Ratio // SOPR // ETH\n",
    "\"\"\"\n",
    "res4 = requests.get(\n",
    "    'https://api.glassnode.com/v1/metrics/indicators/sopr',\n",
    "    params={'a': 'ETH', 'api_key': API_KEY}\n",
    ")"
   ]
  },
  {
   "cell_type": "code",
   "execution_count": 58,
   "id": "d7deb2d4",
   "metadata": {},
   "outputs": [],
   "source": [
    "# convert to pandas dataframe\n",
    "soprData2 = pd.read_json(res4.text, convert_dates=['t'])"
   ]
  },
  {
   "cell_type": "code",
   "execution_count": 59,
   "id": "fa0d2484",
   "metadata": {},
   "outputs": [],
   "source": [
    "# rename columns\n",
    "soprData2 = soprData2.rename(columns={'t': 'Date', 'v': 'SOPR'})"
   ]
  },
  {
   "cell_type": "code",
   "execution_count": 60,
   "id": "3ae2c302",
   "metadata": {},
   "outputs": [],
   "source": [
    "# set index to date\n",
    "soprData2 = soprData2.set_index('Date')"
   ]
  },
  {
   "cell_type": "code",
   "execution_count": 61,
   "id": "234b7fb2",
   "metadata": {},
   "outputs": [
    {
     "data": {
      "text/plain": [
       "<AxesSubplot:xlabel='Date'>"
      ]
     },
     "execution_count": 61,
     "metadata": {},
     "output_type": "execute_result"
    },
    {
     "data": {
      "image/png": "[encoded data removed]",
      "text/plain": [
       "<Figure size 432x288 with 1 Axes>"
      ]
     },
     "metadata": {
      "needs_background": "light"
     },
     "output_type": "display_data"
    }
   ],
   "source": [
    "# plot address data\n",
    "soprData2.plot()"
   ]
  },
  {
   "cell_type": "code",
   "execution_count": 62,
   "id": "ae8d463c",
   "metadata": {},
   "outputs": [],
   "source": [
    "\"\"\"\n",
    "make a request to get % supply last active 1+ years ago // BTC\n",
    "\"\"\"\n",
    "\n",
    "res5 = requests.get(\n",
    "    'https://api.glassnode.com/v1/metrics/supply/active_more_1y_percent',\n",
    "    params={'a': 'BTC', 'api_key': API_KEY}\n",
    ")"
   ]
  },
  {
   "cell_type": "code",
   "execution_count": 63,
   "id": "d09257da",
   "metadata": {},
   "outputs": [],
   "source": [
    "# convert to pandas dataframe\n",
    "supplyData = pd.read_json(res5.text, convert_dates=['t'])"
   ]
  },
  {
   "cell_type": "code",
   "execution_count": 64,
   "id": "86a3527d",
   "metadata": {},
   "outputs": [],
   "source": [
    "# rename columns\n",
    "supplyData = supplyData.rename(columns={'t': 'Date', 'v': 'LongTermSupply'})"
   ]
  },
  {
   "cell_type": "code",
   "execution_count": 65,
   "id": "a12a9882",
   "metadata": {},
   "outputs": [],
   "source": [
    "# set index to date\n",
    "supplyData = supplyData.set_index('Date')"
   ]
  },
  {
   "cell_type": "code",
   "execution_count": 66,
   "id": "2b37a98c",
   "metadata": {},
   "outputs": [
    {
     "data": {
      "text/plain": [
       "<AxesSubplot:xlabel='Date'>"
      ]
     },
     "execution_count": 66,
     "metadata": {},
     "output_type": "execute_result"
    },
    {
     "data": {
      "image/png": "[encoded data removed]",
      "text/plain": [
       "<Figure size 432x288 with 1 Axes>"
      ]
     },
     "metadata": {
      "needs_background": "light"
     },
     "output_type": "display_data"
    }
   ],
   "source": [
    "# plot address data\n",
    "supplyData.plot()"
   ]
  },
  {
   "cell_type": "code",
   "execution_count": 78,
   "id": "429352b6",
   "metadata": {},
   "outputs": [],
   "source": [
    "\"\"\"\n",
    "make a request to get % supply last active 1+ years ago // ETH\n",
    "\"\"\"\n",
    "\n",
    "res6 = requests.get(\n",
    "    'https://api.glassnode.com/v1/metrics/supply/active_more_1y_percent',\n",
    "    params={'a': 'ETH', 'api_key': API_KEY}\n",
    ")"
   ]
  },
  {
   "cell_type": "code",
   "execution_count": 79,
   "id": "410d5b3b",
   "metadata": {},
   "outputs": [],
   "source": [
    "# convert to pandas dataframe\n",
    "supplyData2 = pd.read_json(res6.text, convert_dates=['t'])"
   ]
  },
  {
   "cell_type": "code",
   "execution_count": 75,
   "id": "c6624578",
   "metadata": {},
   "outputs": [],
   "source": [
    "# rename columns\n",
    "supplyData2 = supplyData2.rename(columns={'t': 'Date', 'v': 'LongTermSupply'})"
   ]
  },
  {
   "cell_type": "code",
   "execution_count": 77,
   "id": "c336e07c",
   "metadata": {},
   "outputs": [
    {
     "ename": "TypeError",
     "evalue": "no numeric data to plot",
     "output_type": "error",
     "traceback": [
      "\u001b[1;31m---------------------------------------------------------------------------\u001b[0m",
      "\u001b[1;31mTypeError\u001b[0m                                 Traceback (most recent call last)",
      "Input \u001b[1;32mIn [77]\u001b[0m, in \u001b[0;36m<cell line: 2>\u001b[1;34m()\u001b[0m\n\u001b[0;32m      1\u001b[0m \u001b[38;5;66;03m# plot address data\u001b[39;00m\n\u001b[1;32m----> 2\u001b[0m \u001b[43msupplyData2\u001b[49m\u001b[38;5;241;43m.\u001b[39;49m\u001b[43mplot\u001b[49m\u001b[43m(\u001b[49m\u001b[43m)\u001b[49m\n",
      "File \u001b[1;32m~\\anaconda3\\lib\\site-packages\\pandas\\plotting\\_core.py:972\u001b[0m, in \u001b[0;36mPlotAccessor.__call__\u001b[1;34m(self, *args, **kwargs)\u001b[0m\n\u001b[0;32m    969\u001b[0m             label_name \u001b[38;5;241m=\u001b[39m label_kw \u001b[38;5;129;01mor\u001b[39;00m data\u001b[38;5;241m.\u001b[39mcolumns\n\u001b[0;32m    970\u001b[0m             data\u001b[38;5;241m.\u001b[39mcolumns \u001b[38;5;241m=\u001b[39m label_name\n\u001b[1;32m--> 972\u001b[0m \u001b[38;5;28;01mreturn\u001b[39;00m plot_backend\u001b[38;5;241m.\u001b[39mplot(data, kind\u001b[38;5;241m=\u001b[39mkind, \u001b[38;5;241m*\u001b[39m\u001b[38;5;241m*\u001b[39mkwargs)\n",
      "File \u001b[1;32m~\\anaconda3\\lib\\site-packages\\pandas\\plotting\\_matplotlib\\__init__.py:71\u001b[0m, in \u001b[0;36mplot\u001b[1;34m(data, kind, **kwargs)\u001b[0m\n\u001b[0;32m     69\u001b[0m         kwargs[\u001b[38;5;124m\"\u001b[39m\u001b[38;5;124max\u001b[39m\u001b[38;5;124m\"\u001b[39m] \u001b[38;5;241m=\u001b[39m \u001b[38;5;28mgetattr\u001b[39m(ax, \u001b[38;5;124m\"\u001b[39m\u001b[38;5;124mleft_ax\u001b[39m\u001b[38;5;124m\"\u001b[39m, ax)\n\u001b[0;32m     70\u001b[0m plot_obj \u001b[38;5;241m=\u001b[39m PLOT_CLASSES[kind](data, \u001b[38;5;241m*\u001b[39m\u001b[38;5;241m*\u001b[39mkwargs)\n\u001b[1;32m---> 71\u001b[0m \u001b[43mplot_obj\u001b[49m\u001b[38;5;241;43m.\u001b[39;49m\u001b[43mgenerate\u001b[49m\u001b[43m(\u001b[49m\u001b[43m)\u001b[49m\n\u001b[0;32m     72\u001b[0m plot_obj\u001b[38;5;241m.\u001b[39mdraw()\n\u001b[0;32m     73\u001b[0m \u001b[38;5;28;01mreturn\u001b[39;00m plot_obj\u001b[38;5;241m.\u001b[39mresult\n",
      "File \u001b[1;32m~\\anaconda3\\lib\\site-packages\\pandas\\plotting\\_matplotlib\\core.py:327\u001b[0m, in \u001b[0;36mMPLPlot.generate\u001b[1;34m(self)\u001b[0m\n\u001b[0;32m    325\u001b[0m \u001b[38;5;28;01mdef\u001b[39;00m \u001b[38;5;21mgenerate\u001b[39m(\u001b[38;5;28mself\u001b[39m):\n\u001b[0;32m    326\u001b[0m     \u001b[38;5;28mself\u001b[39m\u001b[38;5;241m.\u001b[39m_args_adjust()\n\u001b[1;32m--> 327\u001b[0m     \u001b[38;5;28;43mself\u001b[39;49m\u001b[38;5;241;43m.\u001b[39;49m\u001b[43m_compute_plot_data\u001b[49m\u001b[43m(\u001b[49m\u001b[43m)\u001b[49m\n\u001b[0;32m    328\u001b[0m     \u001b[38;5;28mself\u001b[39m\u001b[38;5;241m.\u001b[39m_setup_subplots()\n\u001b[0;32m    329\u001b[0m     \u001b[38;5;28mself\u001b[39m\u001b[38;5;241m.\u001b[39m_make_plot()\n",
      "File \u001b[1;32m~\\anaconda3\\lib\\site-packages\\pandas\\plotting\\_matplotlib\\core.py:506\u001b[0m, in \u001b[0;36mMPLPlot._compute_plot_data\u001b[1;34m(self)\u001b[0m\n\u001b[0;32m    504\u001b[0m \u001b[38;5;66;03m# no non-numeric frames or series allowed\u001b[39;00m\n\u001b[0;32m    505\u001b[0m \u001b[38;5;28;01mif\u001b[39;00m is_empty:\n\u001b[1;32m--> 506\u001b[0m     \u001b[38;5;28;01mraise\u001b[39;00m \u001b[38;5;167;01mTypeError\u001b[39;00m(\u001b[38;5;124m\"\u001b[39m\u001b[38;5;124mno numeric data to plot\u001b[39m\u001b[38;5;124m\"\u001b[39m)\n\u001b[0;32m    508\u001b[0m \u001b[38;5;28mself\u001b[39m\u001b[38;5;241m.\u001b[39mdata \u001b[38;5;241m=\u001b[39m numeric_data\u001b[38;5;241m.\u001b[39mapply(\u001b[38;5;28mself\u001b[39m\u001b[38;5;241m.\u001b[39m_convert_to_ndarray)\n",
      "\u001b[1;31mTypeError\u001b[0m: no numeric data to plot"
     ]
    }
   ],
   "source": [
    "# plot address data\n",
    "supplyData2.plot()"
   ]
  },
  {
   "cell_type": "code",
   "execution_count": 80,
   "id": "b4a70fcb",
   "metadata": {},
   "outputs": [],
   "source": [
    "\"\"\"\n",
    "make a request to get pi cycle top data\n",
    "\"\"\"\n",
    "\n",
    "res7 = requests.get(\n",
    "    'https://api.glassnode.com/v1/metrics/indicators/pi_cycle_top',\n",
    "    params={'a': 'BTC', 'api_key': API_KEY}\n",
    ")"
   ]
  },
  {
   "cell_type": "code",
   "execution_count": 81,
   "id": "e0fe536b",
   "metadata": {},
   "outputs": [],
   "source": [
    "# convert to pandas dataframe\n",
    "piCycleData = pd.read_json(res7.text, convert_dates=['t'])"
   ]
  },
  {
   "cell_type": "code",
   "execution_count": 82,
   "id": "74f307f3",
   "metadata": {},
   "outputs": [],
   "source": [
    "# rename columns\n",
    "piCycleData = piCycleData.rename(columns={'t': 'Date', 'o': 'movAvgData'})"
   ]
  },
  {
   "cell_type": "code",
   "execution_count": 83,
   "id": "8b090c38",
   "metadata": {},
   "outputs": [],
   "source": [
    "# set index to date\n",
    "piCycleData = piCycleData.set_index('Date')"
   ]
  },
  {
   "cell_type": "code",
   "execution_count": 84,
   "id": "1fbda503",
   "metadata": {},
   "outputs": [],
   "source": [
    "# turn dictionaries into individual series\n",
    "piCycleData = piCycleData.movAvgData.apply(pd.Series)"
   ]
  },
  {
   "cell_type": "code",
   "execution_count": 85,
   "id": "36761e25",
   "metadata": {},
   "outputs": [
    {
     "data": {
      "text/plain": [
       "<AxesSubplot:xlabel='Date'>"
      ]
     },
     "execution_count": 85,
     "metadata": {},
     "output_type": "execute_result"
    },
    {
     "data": {
      "image/png": "[encoded data removed]",
      "text/plain": [
       "<Figure size 432x288 with 1 Axes>"
      ]
     },
     "metadata": {
      "needs_background": "light"
     },
     "output_type": "display_data"
    }
   ],
   "source": [
    "# plot address data\n",
    "piCycleData.plot()"
   ]
  },
  {
   "cell_type": "code",
   "execution_count": null,
   "id": "3fa80449",
   "metadata": {},
   "outputs": [],
   "source": []
  }
 ],
 "metadata": {
  "kernelspec": {
   "display_name": "Python 3 (ipykernel)",
   "language": "python",
   "name": "python3"
  },
  "language_info": {
   "codemirror_mode": {
    "name": "ipython",
    "version": 3
   },
   "file_extension": ".py",
   "mimetype": "text/x-python",
   "name": "python",
   "nbconvert_exporter": "python",
   "pygments_lexer": "ipython3",
   "version": "3.9.12"
  }
 },
 "nbformat": 4,
 "nbformat_minor": 5
}
